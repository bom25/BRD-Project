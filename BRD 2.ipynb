{
 "cells": [
  {
   "cell_type": "code",
   "execution_count": 98,
   "metadata": {},
   "outputs": [],
   "source": [
    "import numpy as np\n",
    "from pandas import Series, DataFrame, date_range\n",
    "from pandas.tseries.offsets import MonthEnd\n",
    "import pandas as pd\n",
    "import matplotlib.pyplot as plt\n",
    "plt.close('all')\n",
    "import seaborn as sns\n",
    "import random\n",
    "import math \n",
    "\n",
    "\n",
    "import datetime\n",
    "plt.rc('figure', figsize=(12, 10))\n",
    "from numpy.linalg import inv\n",
    "from numpy import dot\n",
    "from scipy import stats"
   ]
  },
  {
   "cell_type": "code",
   "execution_count": 99,
   "metadata": {},
   "outputs": [],
   "source": [
    "DF = pd.read_excel(r'C:\\Users\\Madhav Gulati\\OneDrive\\BRD Project Area\\Data\\BRD Monitoring - for analysis.xls')"
   ]
  },
  {
   "cell_type": "code",
   "execution_count": 100,
   "metadata": {},
   "outputs": [
    {
     "data": {
      "text/html": [
       "<div>\n",
       "<style scoped>\n",
       "    .dataframe tbody tr th:only-of-type {\n",
       "        vertical-align: middle;\n",
       "    }\n",
       "\n",
       "    .dataframe tbody tr th {\n",
       "        vertical-align: top;\n",
       "    }\n",
       "\n",
       "    .dataframe thead th {\n",
       "        text-align: right;\n",
       "    }\n",
       "</style>\n",
       "<table border=\"1\" class=\"dataframe\">\n",
       "  <thead>\n",
       "    <tr style=\"text-align: right;\">\n",
       "      <th></th>\n",
       "      <th>Time</th>\n",
       "      <th>Latitude</th>\n",
       "      <th>Longitude</th>\n",
       "      <th>Data Type</th>\n",
       "      <th>Species</th>\n",
       "      <th>Sex</th>\n",
       "      <th>Age</th>\n",
       "      <th>Activity</th>\n",
       "      <th>Data Type.1</th>\n",
       "      <th>Site</th>\n",
       "      <th>...</th>\n",
       "      <th>Wind Direction</th>\n",
       "      <th>Humidity - Start</th>\n",
       "      <th>Cloud Cover - Start</th>\n",
       "      <th>GenVegConOther - Note</th>\n",
       "      <th>Other Comments</th>\n",
       "      <th>Range (meters)</th>\n",
       "      <th>Bearing (degrees)</th>\n",
       "      <th>Inclination (degrees)</th>\n",
       "      <th>Record Type</th>\n",
       "      <th>Behaviour</th>\n",
       "    </tr>\n",
       "    <tr>\n",
       "      <th>Date</th>\n",
       "      <th></th>\n",
       "      <th></th>\n",
       "      <th></th>\n",
       "      <th></th>\n",
       "      <th></th>\n",
       "      <th></th>\n",
       "      <th></th>\n",
       "      <th></th>\n",
       "      <th></th>\n",
       "      <th></th>\n",
       "      <th></th>\n",
       "      <th></th>\n",
       "      <th></th>\n",
       "      <th></th>\n",
       "      <th></th>\n",
       "      <th></th>\n",
       "      <th></th>\n",
       "      <th></th>\n",
       "      <th></th>\n",
       "      <th></th>\n",
       "      <th></th>\n",
       "    </tr>\n",
       "  </thead>\n",
       "  <tbody>\n",
       "    <tr>\n",
       "      <th>2013-07-12</th>\n",
       "      <td>13:36:50</td>\n",
       "      <td>-31.316560</td>\n",
       "      <td>142.329812</td>\n",
       "      <td>Real Data</td>\n",
       "      <td>NaN</td>\n",
       "      <td>NaN</td>\n",
       "      <td>NaN</td>\n",
       "      <td>SEARCH Transect</td>\n",
       "      <td>Start Transect</td>\n",
       "      <td>Mutawintji NP</td>\n",
       "      <td>...</td>\n",
       "      <td>NaN</td>\n",
       "      <td>NaN</td>\n",
       "      <td>NaN</td>\n",
       "      <td>NaN</td>\n",
       "      <td>Old Mutawintji Gorge - Added post field survey...</td>\n",
       "      <td>NaN</td>\n",
       "      <td>NaN</td>\n",
       "      <td>NaN</td>\n",
       "      <td>Start Transect</td>\n",
       "      <td>NaN</td>\n",
       "    </tr>\n",
       "    <tr>\n",
       "      <th>2013-07-12</th>\n",
       "      <td>13:38:48</td>\n",
       "      <td>-31.314617</td>\n",
       "      <td>142.335820</td>\n",
       "      <td>Real Data</td>\n",
       "      <td>NaN</td>\n",
       "      <td>NaN</td>\n",
       "      <td>NaN</td>\n",
       "      <td>SEARCH Transect</td>\n",
       "      <td>End Transect</td>\n",
       "      <td>Mutawintji NP</td>\n",
       "      <td>...</td>\n",
       "      <td>NaN</td>\n",
       "      <td>NaN</td>\n",
       "      <td>NaN</td>\n",
       "      <td>NaN</td>\n",
       "      <td>Old Mutwintji Gorge - Record added later due t...</td>\n",
       "      <td>NaN</td>\n",
       "      <td>NaN</td>\n",
       "      <td>NaN</td>\n",
       "      <td>End Transect</td>\n",
       "      <td>NaN</td>\n",
       "    </tr>\n",
       "    <tr>\n",
       "      <th>2013-12-06</th>\n",
       "      <td>14:26:49</td>\n",
       "      <td>-31.256820</td>\n",
       "      <td>142.293442</td>\n",
       "      <td>Real Data</td>\n",
       "      <td>Ctenophorus mirrityana</td>\n",
       "      <td>Male</td>\n",
       "      <td>Adult</td>\n",
       "      <td>POP Transect</td>\n",
       "      <td>Transect Record</td>\n",
       "      <td>Mutawintji NP</td>\n",
       "      <td>...</td>\n",
       "      <td>NaN</td>\n",
       "      <td>NaN</td>\n",
       "      <td>NaN</td>\n",
       "      <td></td>\n",
       "      <td>NaN</td>\n",
       "      <td>NaN</td>\n",
       "      <td>NaN</td>\n",
       "      <td>NaN</td>\n",
       "      <td>Transect Record</td>\n",
       "      <td>Rest</td>\n",
       "    </tr>\n",
       "    <tr>\n",
       "      <th>2013-12-06</th>\n",
       "      <td>15:22:17</td>\n",
       "      <td>-31.289618</td>\n",
       "      <td>142.296615</td>\n",
       "      <td>Real Data</td>\n",
       "      <td>Ctenophorus mirrityana</td>\n",
       "      <td>Unknown</td>\n",
       "      <td>Juvenile</td>\n",
       "      <td>POP Transect</td>\n",
       "      <td>Transect Record</td>\n",
       "      <td>Mutawintji NP</td>\n",
       "      <td>...</td>\n",
       "      <td>NaN</td>\n",
       "      <td>NaN</td>\n",
       "      <td>NaN</td>\n",
       "      <td></td>\n",
       "      <td>NaN</td>\n",
       "      <td>NaN</td>\n",
       "      <td>NaN</td>\n",
       "      <td>NaN</td>\n",
       "      <td>Transect Record</td>\n",
       "      <td>Rest</td>\n",
       "    </tr>\n",
       "    <tr>\n",
       "      <th>2013-12-06</th>\n",
       "      <td>15:47:48</td>\n",
       "      <td>-31.292693</td>\n",
       "      <td>142.298810</td>\n",
       "      <td>Real Data</td>\n",
       "      <td>Ctenophorus mirrityana</td>\n",
       "      <td>Unknown</td>\n",
       "      <td>Juvenile</td>\n",
       "      <td>POP Transect</td>\n",
       "      <td>Transect Record</td>\n",
       "      <td>Mutawintji NP</td>\n",
       "      <td>...</td>\n",
       "      <td>NaN</td>\n",
       "      <td>NaN</td>\n",
       "      <td>NaN</td>\n",
       "      <td></td>\n",
       "      <td>NaN</td>\n",
       "      <td>NaN</td>\n",
       "      <td>NaN</td>\n",
       "      <td>NaN</td>\n",
       "      <td>Transect Record</td>\n",
       "      <td>Rest</td>\n",
       "    </tr>\n",
       "  </tbody>\n",
       "</table>\n",
       "<p>5 rows × 26 columns</p>\n",
       "</div>"
      ],
      "text/plain": [
       "                Time   Latitude   Longitude  Data Type  \\\n",
       "Date                                                     \n",
       "2013-07-12  13:36:50 -31.316560  142.329812  Real Data   \n",
       "2013-07-12  13:38:48 -31.314617  142.335820  Real Data   \n",
       "2013-12-06  14:26:49 -31.256820  142.293442  Real Data   \n",
       "2013-12-06  15:22:17 -31.289618  142.296615  Real Data   \n",
       "2013-12-06  15:47:48 -31.292693  142.298810  Real Data   \n",
       "\n",
       "                           Species      Sex       Age         Activity  \\\n",
       "Date                                                                     \n",
       "2013-07-12                     NaN      NaN       NaN  SEARCH Transect   \n",
       "2013-07-12                     NaN      NaN       NaN  SEARCH Transect   \n",
       "2013-12-06  Ctenophorus mirrityana     Male     Adult     POP Transect   \n",
       "2013-12-06  Ctenophorus mirrityana  Unknown  Juvenile     POP Transect   \n",
       "2013-12-06  Ctenophorus mirrityana  Unknown  Juvenile     POP Transect   \n",
       "\n",
       "                Data Type.1           Site  ...  Wind Direction  \\\n",
       "Date                                        ...                   \n",
       "2013-07-12   Start Transect  Mutawintji NP  ...             NaN   \n",
       "2013-07-12     End Transect  Mutawintji NP  ...             NaN   \n",
       "2013-12-06  Transect Record  Mutawintji NP  ...             NaN   \n",
       "2013-12-06  Transect Record  Mutawintji NP  ...             NaN   \n",
       "2013-12-06  Transect Record  Mutawintji NP  ...             NaN   \n",
       "\n",
       "            Humidity - Start Cloud Cover - Start GenVegConOther - Note  \\\n",
       "Date                                                                     \n",
       "2013-07-12               NaN                 NaN                   NaN   \n",
       "2013-07-12               NaN                 NaN                   NaN   \n",
       "2013-12-06               NaN                 NaN                         \n",
       "2013-12-06               NaN                 NaN                         \n",
       "2013-12-06               NaN                 NaN                         \n",
       "\n",
       "                                               Other Comments  Range (meters)  \\\n",
       "Date                                                                            \n",
       "2013-07-12  Old Mutawintji Gorge - Added post field survey...             NaN   \n",
       "2013-07-12  Old Mutwintji Gorge - Record added later due t...             NaN   \n",
       "2013-12-06                                                NaN             NaN   \n",
       "2013-12-06                                                NaN             NaN   \n",
       "2013-12-06                                                NaN             NaN   \n",
       "\n",
       "            Bearing (degrees)  Inclination (degrees)      Record Type  \\\n",
       "Date                                                                    \n",
       "2013-07-12                NaN                    NaN   Start Transect   \n",
       "2013-07-12                NaN                    NaN     End Transect   \n",
       "2013-12-06                NaN                    NaN  Transect Record   \n",
       "2013-12-06                NaN                    NaN  Transect Record   \n",
       "2013-12-06                NaN                    NaN  Transect Record   \n",
       "\n",
       "           Behaviour  \n",
       "Date                  \n",
       "2013-07-12       NaN  \n",
       "2013-07-12       NaN  \n",
       "2013-12-06      Rest  \n",
       "2013-12-06      Rest  \n",
       "2013-12-06      Rest  \n",
       "\n",
       "[5 rows x 26 columns]"
      ]
     },
     "execution_count": 100,
     "metadata": {},
     "output_type": "execute_result"
    }
   ],
   "source": [
    "DF['Date'] = pd.to_datetime(DF.Date.astype('str'))\n",
    "DF = DF.set_index('Date')\n",
    "DF.head()"
   ]
  },
  {
   "cell_type": "code",
   "execution_count": 101,
   "metadata": {},
   "outputs": [],
   "source": [
    "DF1= DF.drop(['Data Type', 'Wind Direction', 'GenVegConOther - Note', 'Cloud Cover - Start', 'Observer - Start', \n",
    "               'Observers', 'Wind Speed - Start', 'Other Comments', 'Record Type'], axis = 1)"
   ]
  },
  {
   "cell_type": "code",
   "execution_count": 102,
   "metadata": {},
   "outputs": [],
   "source": [
    "DF1['Type'] = DF1['Data Type.1']"
   ]
  },
  {
   "cell_type": "code",
   "execution_count": 103,
   "metadata": {},
   "outputs": [],
   "source": [
    "DF1 = DF1.drop(['Data Type.1'], axis = 1)"
   ]
  },
  {
   "cell_type": "code",
   "execution_count": 104,
   "metadata": {},
   "outputs": [],
   "source": [
    "DF1 = DF1[(DF1.Type == \"Transect Record\")]"
   ]
  },
  {
   "cell_type": "code",
   "execution_count": 105,
   "metadata": {},
   "outputs": [],
   "source": [
    "DF1 = DF1[(DF1.Activity == \"POP Transect\")]"
   ]
  },
  {
   "cell_type": "code",
   "execution_count": 106,
   "metadata": {},
   "outputs": [],
   "source": [
    "DF2 = DF1[(DF1.Species == \"Ctenophorus mirrityana\")]"
   ]
  },
  {
   "cell_type": "code",
   "execution_count": 107,
   "metadata": {},
   "outputs": [
    {
     "name": "stderr",
     "output_type": "stream",
     "text": [
      "C:\\ProgramData\\Anaconda3\\lib\\site-packages\\ipykernel_launcher.py:1: SettingWithCopyWarning: \n",
      "A value is trying to be set on a copy of a slice from a DataFrame.\n",
      "Try using .loc[row_indexer,col_indexer] = value instead\n",
      "\n",
      "See the caveats in the documentation: https://pandas.pydata.org/pandas-docs/stable/user_guide/indexing.html#returning-a-view-versus-a-copy\n",
      "  \"\"\"Entry point for launching an IPython kernel.\n",
      "C:\\ProgramData\\Anaconda3\\lib\\site-packages\\ipykernel_launcher.py:2: SettingWithCopyWarning: \n",
      "A value is trying to be set on a copy of a slice from a DataFrame.\n",
      "Try using .loc[row_indexer,col_indexer] = value instead\n",
      "\n",
      "See the caveats in the documentation: https://pandas.pydata.org/pandas-docs/stable/user_guide/indexing.html#returning-a-view-versus-a-copy\n",
      "  \n"
     ]
    },
    {
     "data": {
      "text/html": [
       "<div>\n",
       "<style scoped>\n",
       "    .dataframe tbody tr th:only-of-type {\n",
       "        vertical-align: middle;\n",
       "    }\n",
       "\n",
       "    .dataframe tbody tr th {\n",
       "        vertical-align: top;\n",
       "    }\n",
       "\n",
       "    .dataframe thead th {\n",
       "        text-align: right;\n",
       "    }\n",
       "</style>\n",
       "<table border=\"1\" class=\"dataframe\">\n",
       "  <thead>\n",
       "    <tr style=\"text-align: right;\">\n",
       "      <th></th>\n",
       "      <th>Latitude</th>\n",
       "      <th>Longitude</th>\n",
       "      <th>Transect Number</th>\n",
       "      <th>Temperature - Start</th>\n",
       "      <th>Humidity - Start</th>\n",
       "      <th>Inclination (degrees)</th>\n",
       "      <th>Bearing</th>\n",
       "      <th>Range</th>\n",
       "    </tr>\n",
       "  </thead>\n",
       "  <tbody>\n",
       "    <tr>\n",
       "      <th>count</th>\n",
       "      <td>217.000000</td>\n",
       "      <td>217.000000</td>\n",
       "      <td>131.000000</td>\n",
       "      <td>55.000000</td>\n",
       "      <td>55.000000</td>\n",
       "      <td>2.000000</td>\n",
       "      <td>125.000000</td>\n",
       "      <td>125.000000</td>\n",
       "    </tr>\n",
       "    <tr>\n",
       "      <th>mean</th>\n",
       "      <td>-31.547445</td>\n",
       "      <td>141.604748</td>\n",
       "      <td>3.893130</td>\n",
       "      <td>29.320000</td>\n",
       "      <td>29.252727</td>\n",
       "      <td>17.625000</td>\n",
       "      <td>174.408000</td>\n",
       "      <td>9.473600</td>\n",
       "    </tr>\n",
       "    <tr>\n",
       "      <th>std</th>\n",
       "      <td>0.183793</td>\n",
       "      <td>0.426717</td>\n",
       "      <td>5.488802</td>\n",
       "      <td>3.294462</td>\n",
       "      <td>12.260020</td>\n",
       "      <td>24.571961</td>\n",
       "      <td>114.955819</td>\n",
       "      <td>8.153647</td>\n",
       "    </tr>\n",
       "    <tr>\n",
       "      <th>min</th>\n",
       "      <td>-31.666780</td>\n",
       "      <td>141.325057</td>\n",
       "      <td>1.000000</td>\n",
       "      <td>21.600000</td>\n",
       "      <td>19.800000</td>\n",
       "      <td>0.250000</td>\n",
       "      <td>0.000000</td>\n",
       "      <td>1.000000</td>\n",
       "    </tr>\n",
       "    <tr>\n",
       "      <th>25%</th>\n",
       "      <td>-31.663143</td>\n",
       "      <td>141.335053</td>\n",
       "      <td>1.000000</td>\n",
       "      <td>27.950000</td>\n",
       "      <td>20.800000</td>\n",
       "      <td>8.937500</td>\n",
       "      <td>55.000000</td>\n",
       "      <td>4.900000</td>\n",
       "    </tr>\n",
       "    <tr>\n",
       "      <th>50%</th>\n",
       "      <td>-31.659622</td>\n",
       "      <td>141.336483</td>\n",
       "      <td>3.000000</td>\n",
       "      <td>31.100000</td>\n",
       "      <td>25.900000</td>\n",
       "      <td>17.625000</td>\n",
       "      <td>190.000000</td>\n",
       "      <td>8.000000</td>\n",
       "    </tr>\n",
       "    <tr>\n",
       "      <th>75%</th>\n",
       "      <td>-31.290993</td>\n",
       "      <td>142.271282</td>\n",
       "      <td>4.000000</td>\n",
       "      <td>31.500000</td>\n",
       "      <td>35.000000</td>\n",
       "      <td>26.312500</td>\n",
       "      <td>280.000000</td>\n",
       "      <td>10.400000</td>\n",
       "    </tr>\n",
       "    <tr>\n",
       "      <th>max</th>\n",
       "      <td>-31.217630</td>\n",
       "      <td>142.307448</td>\n",
       "      <td>29.000000</td>\n",
       "      <td>32.700000</td>\n",
       "      <td>75.300000</td>\n",
       "      <td>35.000000</td>\n",
       "      <td>355.000000</td>\n",
       "      <td>55.000000</td>\n",
       "    </tr>\n",
       "  </tbody>\n",
       "</table>\n",
       "</div>"
      ],
      "text/plain": [
       "         Latitude   Longitude  Transect Number  Temperature - Start  \\\n",
       "count  217.000000  217.000000       131.000000            55.000000   \n",
       "mean   -31.547445  141.604748         3.893130            29.320000   \n",
       "std      0.183793    0.426717         5.488802             3.294462   \n",
       "min    -31.666780  141.325057         1.000000            21.600000   \n",
       "25%    -31.663143  141.335053         1.000000            27.950000   \n",
       "50%    -31.659622  141.336483         3.000000            31.100000   \n",
       "75%    -31.290993  142.271282         4.000000            31.500000   \n",
       "max    -31.217630  142.307448        29.000000            32.700000   \n",
       "\n",
       "       Humidity - Start  Inclination (degrees)     Bearing       Range  \n",
       "count         55.000000               2.000000  125.000000  125.000000  \n",
       "mean          29.252727              17.625000  174.408000    9.473600  \n",
       "std           12.260020              24.571961  114.955819    8.153647  \n",
       "min           19.800000               0.250000    0.000000    1.000000  \n",
       "25%           20.800000               8.937500   55.000000    4.900000  \n",
       "50%           25.900000              17.625000  190.000000    8.000000  \n",
       "75%           35.000000              26.312500  280.000000   10.400000  \n",
       "max           75.300000              35.000000  355.000000   55.000000  "
      ]
     },
     "execution_count": 107,
     "metadata": {},
     "output_type": "execute_result"
    }
   ],
   "source": [
    "DF2['Bearing'] = DF2['Bearing (degrees)']\n",
    "DF2['Range'] = DF2 ['Range (meters)']\n",
    "DF2 = DF2.drop(['Trans. Bearing (degrees)', 'Bearing (degrees)', 'Range (meters)'], axis = 1)\n",
    "DF2.replace('', np.nan, inplace=True)\n",
    "DF2.describe()"
   ]
  },
  {
   "cell_type": "code",
   "execution_count": 108,
   "metadata": {},
   "outputs": [
    {
     "data": {
      "text/html": [
       "<div>\n",
       "<style scoped>\n",
       "    .dataframe tbody tr th:only-of-type {\n",
       "        vertical-align: middle;\n",
       "    }\n",
       "\n",
       "    .dataframe tbody tr th {\n",
       "        vertical-align: top;\n",
       "    }\n",
       "\n",
       "    .dataframe thead th {\n",
       "        text-align: right;\n",
       "    }\n",
       "</style>\n",
       "<table border=\"1\" class=\"dataframe\">\n",
       "  <thead>\n",
       "    <tr style=\"text-align: right;\">\n",
       "      <th></th>\n",
       "      <th>Time</th>\n",
       "      <th>Latitude</th>\n",
       "      <th>Longitude</th>\n",
       "      <th>Species</th>\n",
       "      <th>Sex</th>\n",
       "      <th>Age</th>\n",
       "      <th>Activity</th>\n",
       "      <th>Site</th>\n",
       "      <th>Transect Number</th>\n",
       "      <th>Temperature - Start</th>\n",
       "      <th>Humidity - Start</th>\n",
       "      <th>Inclination (degrees)</th>\n",
       "      <th>Behaviour</th>\n",
       "      <th>Type</th>\n",
       "      <th>Bearing</th>\n",
       "      <th>Range</th>\n",
       "    </tr>\n",
       "    <tr>\n",
       "      <th>Date</th>\n",
       "      <th></th>\n",
       "      <th></th>\n",
       "      <th></th>\n",
       "      <th></th>\n",
       "      <th></th>\n",
       "      <th></th>\n",
       "      <th></th>\n",
       "      <th></th>\n",
       "      <th></th>\n",
       "      <th></th>\n",
       "      <th></th>\n",
       "      <th></th>\n",
       "      <th></th>\n",
       "      <th></th>\n",
       "      <th></th>\n",
       "      <th></th>\n",
       "    </tr>\n",
       "  </thead>\n",
       "  <tbody>\n",
       "    <tr>\n",
       "      <th>2013-12-06</th>\n",
       "      <td>14:26:49</td>\n",
       "      <td>-31.256820</td>\n",
       "      <td>142.293442</td>\n",
       "      <td>Ctenophorus mirrityana</td>\n",
       "      <td>Male</td>\n",
       "      <td>Adult</td>\n",
       "      <td>POP Transect</td>\n",
       "      <td>Mutawintji NP</td>\n",
       "      <td>9.0</td>\n",
       "      <td>NaN</td>\n",
       "      <td>NaN</td>\n",
       "      <td>NaN</td>\n",
       "      <td>Rest</td>\n",
       "      <td>Transect Record</td>\n",
       "      <td>NaN</td>\n",
       "      <td>NaN</td>\n",
       "    </tr>\n",
       "    <tr>\n",
       "      <th>2013-12-06</th>\n",
       "      <td>15:22:17</td>\n",
       "      <td>-31.289618</td>\n",
       "      <td>142.296615</td>\n",
       "      <td>Ctenophorus mirrityana</td>\n",
       "      <td>Unknown</td>\n",
       "      <td>Juvenile</td>\n",
       "      <td>POP Transect</td>\n",
       "      <td>Mutawintji NP</td>\n",
       "      <td>1.0</td>\n",
       "      <td>NaN</td>\n",
       "      <td>NaN</td>\n",
       "      <td>NaN</td>\n",
       "      <td>Rest</td>\n",
       "      <td>Transect Record</td>\n",
       "      <td>NaN</td>\n",
       "      <td>NaN</td>\n",
       "    </tr>\n",
       "    <tr>\n",
       "      <th>2013-12-06</th>\n",
       "      <td>15:47:48</td>\n",
       "      <td>-31.292693</td>\n",
       "      <td>142.298810</td>\n",
       "      <td>Ctenophorus mirrityana</td>\n",
       "      <td>Unknown</td>\n",
       "      <td>Juvenile</td>\n",
       "      <td>POP Transect</td>\n",
       "      <td>Mutawintji NP</td>\n",
       "      <td>1.0</td>\n",
       "      <td>NaN</td>\n",
       "      <td>NaN</td>\n",
       "      <td>NaN</td>\n",
       "      <td>Rest</td>\n",
       "      <td>Transect Record</td>\n",
       "      <td>NaN</td>\n",
       "      <td>NaN</td>\n",
       "    </tr>\n",
       "    <tr>\n",
       "      <th>2013-12-06</th>\n",
       "      <td>16:13:53</td>\n",
       "      <td>-31.293548</td>\n",
       "      <td>142.299505</td>\n",
       "      <td>Ctenophorus mirrityana</td>\n",
       "      <td>Male</td>\n",
       "      <td>Adult</td>\n",
       "      <td>POP Transect</td>\n",
       "      <td>Mutawintji NP</td>\n",
       "      <td>2.0</td>\n",
       "      <td>NaN</td>\n",
       "      <td>NaN</td>\n",
       "      <td>NaN</td>\n",
       "      <td>Display</td>\n",
       "      <td>Transect Record</td>\n",
       "      <td>NaN</td>\n",
       "      <td>NaN</td>\n",
       "    </tr>\n",
       "    <tr>\n",
       "      <th>2013-12-06</th>\n",
       "      <td>14:38:36</td>\n",
       "      <td>-31.256922</td>\n",
       "      <td>142.292819</td>\n",
       "      <td>Ctenophorus mirrityana</td>\n",
       "      <td>Female</td>\n",
       "      <td>Adult</td>\n",
       "      <td>POP Transect</td>\n",
       "      <td>Mutawintji NP</td>\n",
       "      <td>9.0</td>\n",
       "      <td>NaN</td>\n",
       "      <td>NaN</td>\n",
       "      <td>NaN</td>\n",
       "      <td>Rest</td>\n",
       "      <td>Transect Record</td>\n",
       "      <td>NaN</td>\n",
       "      <td>NaN</td>\n",
       "    </tr>\n",
       "  </tbody>\n",
       "</table>\n",
       "</div>"
      ],
      "text/plain": [
       "                Time   Latitude   Longitude                 Species      Sex  \\\n",
       "Date                                                                           \n",
       "2013-12-06  14:26:49 -31.256820  142.293442  Ctenophorus mirrityana     Male   \n",
       "2013-12-06  15:22:17 -31.289618  142.296615  Ctenophorus mirrityana  Unknown   \n",
       "2013-12-06  15:47:48 -31.292693  142.298810  Ctenophorus mirrityana  Unknown   \n",
       "2013-12-06  16:13:53 -31.293548  142.299505  Ctenophorus mirrityana     Male   \n",
       "2013-12-06  14:38:36 -31.256922  142.292819  Ctenophorus mirrityana   Female   \n",
       "\n",
       "                 Age      Activity           Site  Transect Number  \\\n",
       "Date                                                                 \n",
       "2013-12-06     Adult  POP Transect  Mutawintji NP              9.0   \n",
       "2013-12-06  Juvenile  POP Transect  Mutawintji NP              1.0   \n",
       "2013-12-06  Juvenile  POP Transect  Mutawintji NP              1.0   \n",
       "2013-12-06     Adult  POP Transect  Mutawintji NP              2.0   \n",
       "2013-12-06     Adult  POP Transect  Mutawintji NP              9.0   \n",
       "\n",
       "            Temperature - Start  Humidity - Start  Inclination (degrees)  \\\n",
       "Date                                                                       \n",
       "2013-12-06                  NaN               NaN                    NaN   \n",
       "2013-12-06                  NaN               NaN                    NaN   \n",
       "2013-12-06                  NaN               NaN                    NaN   \n",
       "2013-12-06                  NaN               NaN                    NaN   \n",
       "2013-12-06                  NaN               NaN                    NaN   \n",
       "\n",
       "           Behaviour             Type  Bearing  Range  \n",
       "Date                                                   \n",
       "2013-12-06      Rest  Transect Record      NaN    NaN  \n",
       "2013-12-06      Rest  Transect Record      NaN    NaN  \n",
       "2013-12-06      Rest  Transect Record      NaN    NaN  \n",
       "2013-12-06   Display  Transect Record      NaN    NaN  \n",
       "2013-12-06      Rest  Transect Record      NaN    NaN  "
      ]
     },
     "execution_count": 108,
     "metadata": {},
     "output_type": "execute_result"
    }
   ],
   "source": [
    "DF2.head()"
   ]
  },
  {
   "cell_type": "code",
   "execution_count": 109,
   "metadata": {},
   "outputs": [],
   "source": [
    "DF2.tail()\n",
    "DFori = DF2\n",
    "DFMutawintji2 = DF2[(DF2.Site == \"Mutawintji NP\")]\n",
    "DFPurnamoota2 = DF2[(DF2.Site == \"Purnamoota\")]"
   ]
  },
  {
   "cell_type": "code",
   "execution_count": 110,
   "metadata": {},
   "outputs": [],
   "source": [
    "DF2 = DF2.dropna(subset=['Transect Number'])"
   ]
  },
  {
   "cell_type": "markdown",
   "metadata": {},
   "source": [
    "categorical_features = [\"Transect Number\", \"Site\"]\n",
    "fig, ax = plt.subplots(1, len(categorical_features))\n",
    "for i, categorical_feature in enumerate(DFori[categorical_features]):\n",
    "    DFori[categorical_feature].value_counts().plot(kind='bar', ax=ax[i]).set_title(categorical_feature)\n",
    "fig.show()"
   ]
  },
  {
   "cell_type": "code",
   "execution_count": 111,
   "metadata": {},
   "outputs": [],
   "source": [
    "#DFori['Transect Number'].value_counts().plot(kind='bar')"
   ]
  },
  {
   "cell_type": "code",
   "execution_count": 112,
   "metadata": {},
   "outputs": [],
   "source": [
    "#DFori['Site'].value_counts().plot(kind='bar')"
   ]
  },
  {
   "cell_type": "code",
   "execution_count": 113,
   "metadata": {},
   "outputs": [],
   "source": [
    "DFPurnamoota = DFori[(DFori.Site == \"Purnamoota\")]"
   ]
  },
  {
   "cell_type": "code",
   "execution_count": 114,
   "metadata": {},
   "outputs": [
    {
     "data": {
      "text/html": [
       "<div>\n",
       "<style scoped>\n",
       "    .dataframe tbody tr th:only-of-type {\n",
       "        vertical-align: middle;\n",
       "    }\n",
       "\n",
       "    .dataframe tbody tr th {\n",
       "        vertical-align: top;\n",
       "    }\n",
       "\n",
       "    .dataframe thead th {\n",
       "        text-align: right;\n",
       "    }\n",
       "</style>\n",
       "<table border=\"1\" class=\"dataframe\">\n",
       "  <thead>\n",
       "    <tr style=\"text-align: right;\">\n",
       "      <th></th>\n",
       "      <th>Latitude</th>\n",
       "      <th>Longitude</th>\n",
       "      <th>Transect Number</th>\n",
       "      <th>Temperature - Start</th>\n",
       "      <th>Humidity - Start</th>\n",
       "      <th>Inclination (degrees)</th>\n",
       "      <th>Bearing</th>\n",
       "      <th>Range</th>\n",
       "    </tr>\n",
       "  </thead>\n",
       "  <tbody>\n",
       "    <tr>\n",
       "      <th>count</th>\n",
       "      <td>156.000000</td>\n",
       "      <td>156.000000</td>\n",
       "      <td>89.000000</td>\n",
       "      <td>36.000000</td>\n",
       "      <td>36.000000</td>\n",
       "      <td>0.0</td>\n",
       "      <td>88.000000</td>\n",
       "      <td>88.000000</td>\n",
       "    </tr>\n",
       "    <tr>\n",
       "      <th>mean</th>\n",
       "      <td>-31.661609</td>\n",
       "      <td>141.338599</td>\n",
       "      <td>2.258427</td>\n",
       "      <td>29.505556</td>\n",
       "      <td>27.458333</td>\n",
       "      <td>NaN</td>\n",
       "      <td>165.181818</td>\n",
       "      <td>9.780682</td>\n",
       "    </tr>\n",
       "    <tr>\n",
       "      <th>std</th>\n",
       "      <td>0.003313</td>\n",
       "      <td>0.009020</td>\n",
       "      <td>1.092621</td>\n",
       "      <td>3.166516</td>\n",
       "      <td>8.615845</td>\n",
       "      <td>NaN</td>\n",
       "      <td>116.618599</td>\n",
       "      <td>8.850415</td>\n",
       "    </tr>\n",
       "    <tr>\n",
       "      <th>min</th>\n",
       "      <td>-31.666780</td>\n",
       "      <td>141.325057</td>\n",
       "      <td>1.000000</td>\n",
       "      <td>23.500000</td>\n",
       "      <td>19.800000</td>\n",
       "      <td>NaN</td>\n",
       "      <td>0.000000</td>\n",
       "      <td>1.000000</td>\n",
       "    </tr>\n",
       "    <tr>\n",
       "      <th>25%</th>\n",
       "      <td>-31.664567</td>\n",
       "      <td>141.334546</td>\n",
       "      <td>1.000000</td>\n",
       "      <td>29.825000</td>\n",
       "      <td>20.800000</td>\n",
       "      <td>NaN</td>\n",
       "      <td>54.500000</td>\n",
       "      <td>4.950000</td>\n",
       "    </tr>\n",
       "    <tr>\n",
       "      <th>50%</th>\n",
       "      <td>-31.661069</td>\n",
       "      <td>141.335547</td>\n",
       "      <td>2.000000</td>\n",
       "      <td>31.100000</td>\n",
       "      <td>21.400000</td>\n",
       "      <td>NaN</td>\n",
       "      <td>172.500000</td>\n",
       "      <td>8.000000</td>\n",
       "    </tr>\n",
       "    <tr>\n",
       "      <th>75%</th>\n",
       "      <td>-31.659320</td>\n",
       "      <td>141.336709</td>\n",
       "      <td>3.000000</td>\n",
       "      <td>31.500000</td>\n",
       "      <td>33.900000</td>\n",
       "      <td>NaN</td>\n",
       "      <td>272.000000</td>\n",
       "      <td>10.400000</td>\n",
       "    </tr>\n",
       "    <tr>\n",
       "      <th>max</th>\n",
       "      <td>-31.653775</td>\n",
       "      <td>141.361161</td>\n",
       "      <td>4.000000</td>\n",
       "      <td>32.700000</td>\n",
       "      <td>40.900000</td>\n",
       "      <td>NaN</td>\n",
       "      <td>355.000000</td>\n",
       "      <td>55.000000</td>\n",
       "    </tr>\n",
       "  </tbody>\n",
       "</table>\n",
       "</div>"
      ],
      "text/plain": [
       "         Latitude   Longitude  Transect Number  Temperature - Start  \\\n",
       "count  156.000000  156.000000        89.000000            36.000000   \n",
       "mean   -31.661609  141.338599         2.258427            29.505556   \n",
       "std      0.003313    0.009020         1.092621             3.166516   \n",
       "min    -31.666780  141.325057         1.000000            23.500000   \n",
       "25%    -31.664567  141.334546         1.000000            29.825000   \n",
       "50%    -31.661069  141.335547         2.000000            31.100000   \n",
       "75%    -31.659320  141.336709         3.000000            31.500000   \n",
       "max    -31.653775  141.361161         4.000000            32.700000   \n",
       "\n",
       "       Humidity - Start  Inclination (degrees)     Bearing      Range  \n",
       "count         36.000000                    0.0   88.000000  88.000000  \n",
       "mean          27.458333                    NaN  165.181818   9.780682  \n",
       "std            8.615845                    NaN  116.618599   8.850415  \n",
       "min           19.800000                    NaN    0.000000   1.000000  \n",
       "25%           20.800000                    NaN   54.500000   4.950000  \n",
       "50%           21.400000                    NaN  172.500000   8.000000  \n",
       "75%           33.900000                    NaN  272.000000  10.400000  \n",
       "max           40.900000                    NaN  355.000000  55.000000  "
      ]
     },
     "execution_count": 114,
     "metadata": {},
     "output_type": "execute_result"
    }
   ],
   "source": [
    "DFPurnamoota.describe()"
   ]
  },
  {
   "cell_type": "code",
   "execution_count": 115,
   "metadata": {},
   "outputs": [],
   "source": [
    "DFMutawintji = DFori[(DFori.Site == \"Mutawintji NP\")]"
   ]
  },
  {
   "cell_type": "code",
   "execution_count": 116,
   "metadata": {},
   "outputs": [],
   "source": [
    "DFPurnamoota1 = DF2[(DF2.Site == \"Purnamoota\")]"
   ]
  },
  {
   "cell_type": "code",
   "execution_count": 117,
   "metadata": {},
   "outputs": [],
   "source": [
    "DFMutawintji1 = DF2[(DF2.Site == \"Mutawintji NP\")]"
   ]
  },
  {
   "cell_type": "code",
   "execution_count": 118,
   "metadata": {},
   "outputs": [],
   "source": [
    "TransectLengthsP = pd.read_excel(r'C:\\Users\\Madhav Gulati\\OneDrive\\Transect Lengths P.xlsx')\n",
    "TransectLengthsM = pd.read_excel(r'C:\\Users\\Madhav Gulati\\OneDrive\\Transect Lengths M.xlsx')"
   ]
  },
  {
   "cell_type": "code",
   "execution_count": 119,
   "metadata": {},
   "outputs": [],
   "source": [
    "def cleaning(col, col1):\n",
    "    \n",
    "    for val in col1 :\n",
    "\n",
    "        val = pd.Series(col1.values)\n",
    "        \n",
    "        if any(val.isnull()) :\n",
    "            return col1.map(lambda val: np.random.choice(col))\n",
    "    \n",
    "                       \n",
    "        else:\n",
    "            return val\n",
    "        \n",
    "        return dataframe"
   ]
  },
  {
   "cell_type": "code",
   "execution_count": 120,
   "metadata": {},
   "outputs": [],
   "source": [
    "#DFPurnamoota.describe()"
   ]
  },
  {
   "cell_type": "code",
   "execution_count": 121,
   "metadata": {},
   "outputs": [
    {
     "data": {
      "text/plain": [
       "Date\n",
       "2013-12-08    1.0\n",
       "2013-12-08    2.0\n",
       "2013-12-08    2.0\n",
       "2013-12-08    1.0\n",
       "2013-12-08    2.0\n",
       "             ... \n",
       "2016-04-14    3.0\n",
       "2016-04-14    1.0\n",
       "2016-04-14    1.0\n",
       "2016-04-14    1.0\n",
       "2016-04-14    1.0\n",
       "Name: Transect Number, Length: 156, dtype: float64"
      ]
     },
     "execution_count": 121,
     "metadata": {},
     "output_type": "execute_result"
    }
   ],
   "source": [
    "TransectNumDistPurnamoota1 = cleaning(DFPurnamoota1['Transect Number'], DFPurnamoota['Transect Number'])\n",
    "TransectNumDistPurnamoota1"
   ]
  },
  {
   "cell_type": "code",
   "execution_count": 122,
   "metadata": {},
   "outputs": [
    {
     "data": {
      "text/plain": [
       "1.0"
      ]
     },
     "execution_count": 122,
     "metadata": {},
     "output_type": "execute_result"
    }
   ],
   "source": [
    "DFPurnamoota1['Transect Number'].iloc[12]"
   ]
  },
  {
   "cell_type": "code",
   "execution_count": 123,
   "metadata": {},
   "outputs": [],
   "source": [
    "TransectNumDistPurnamoota1 = pd.Series(TransectNumDistPurnamoota1)"
   ]
  },
  {
   "cell_type": "code",
   "execution_count": 124,
   "metadata": {},
   "outputs": [
    {
     "name": "stderr",
     "output_type": "stream",
     "text": [
      "C:\\ProgramData\\Anaconda3\\lib\\site-packages\\ipykernel_launcher.py:1: SettingWithCopyWarning: \n",
      "A value is trying to be set on a copy of a slice from a DataFrame.\n",
      "Try using .loc[row_indexer,col_indexer] = value instead\n",
      "\n",
      "See the caveats in the documentation: https://pandas.pydata.org/pandas-docs/stable/user_guide/indexing.html#returning-a-view-versus-a-copy\n",
      "  \"\"\"Entry point for launching an IPython kernel.\n"
     ]
    }
   ],
   "source": [
    "DFPurnamoota['Transect Number'] = DFPurnamoota['Transect Number'].fillna(value = TransectNumDistPurnamoota1)"
   ]
  },
  {
   "cell_type": "code",
   "execution_count": 125,
   "metadata": {},
   "outputs": [
    {
     "data": {
      "text/plain": [
       "<matplotlib.axes._subplots.AxesSubplot at 0x23c9543ed48>"
      ]
     },
     "execution_count": 125,
     "metadata": {},
     "output_type": "execute_result"
    },
    {
     "data": {
      "image/png": "[encoded data removed]",
      "text/plain": [
       "<Figure size 864x720 with 1 Axes>"
      ]
     },
     "metadata": {
      "needs_background": "light"
     },
     "output_type": "display_data"
    }
   ],
   "source": [
    "DFPurnamoota1['Transect Number'].value_counts().plot(kind='bar')"
   ]
  },
  {
   "cell_type": "code",
   "execution_count": 126,
   "metadata": {},
   "outputs": [
    {
     "data": {
      "text/plain": [
       "<matplotlib.axes._subplots.AxesSubplot at 0x23c95383908>"
      ]
     },
     "execution_count": 126,
     "metadata": {},
     "output_type": "execute_result"
    },
    {
     "data": {
      "image/png": "[encoded data removed]",
      "text/plain": [
       "<Figure size 864x720 with 1 Axes>"
      ]
     },
     "metadata": {
      "needs_background": "light"
     },
     "output_type": "display_data"
    }
   ],
   "source": [
    "DFPurnamoota['Transect Number'].value_counts().plot(kind='bar')"
   ]
  },
  {
   "cell_type": "code",
   "execution_count": 127,
   "metadata": {},
   "outputs": [
    {
     "data": {
      "text/plain": [
       "<matplotlib.axes._subplots.AxesSubplot at 0x23c953b2448>"
      ]
     },
     "execution_count": 127,
     "metadata": {},
     "output_type": "execute_result"
    },
    {
     "data": {
      "image/png": "[encoded data removed]",
      "text/plain": [
       "<Figure size 864x720 with 1 Axes>"
      ]
     },
     "metadata": {
      "needs_background": "light"
     },
     "output_type": "display_data"
    }
   ],
   "source": [
    "DFMutawintji1['Transect Number'].value_counts().plot(kind='bar')"
   ]
  },
  {
   "cell_type": "code",
   "execution_count": 128,
   "metadata": {},
   "outputs": [
    {
     "data": {
      "text/plain": [
       "<matplotlib.axes._subplots.AxesSubplot at 0x23c95ffe688>"
      ]
     },
     "execution_count": 128,
     "metadata": {},
     "output_type": "execute_result"
    },
    {
     "data": {
      "image/png": "[encoded data removed]",
      "text/plain": [
       "<Figure size 864x720 with 1 Axes>"
      ]
     },
     "metadata": {
      "needs_background": "light"
     },
     "output_type": "display_data"
    }
   ],
   "source": [
    "DFMutawintji['Transect Number'].value_counts().plot(kind='bar')"
   ]
  },
  {
   "cell_type": "code",
   "execution_count": 129,
   "metadata": {},
   "outputs": [],
   "source": [
    "TransectNumDistMutawintji1  = cleaning(DFMutawintji1['Transect Number'], DFMutawintji['Transect Number'])"
   ]
  },
  {
   "cell_type": "code",
   "execution_count": 130,
   "metadata": {},
   "outputs": [],
   "source": [
    "TransectNumDistMutawintji1 = pd.Series(TransectNumDistMutawintji1)"
   ]
  },
  {
   "cell_type": "code",
   "execution_count": 131,
   "metadata": {},
   "outputs": [
    {
     "name": "stderr",
     "output_type": "stream",
     "text": [
      "C:\\ProgramData\\Anaconda3\\lib\\site-packages\\ipykernel_launcher.py:1: SettingWithCopyWarning: \n",
      "A value is trying to be set on a copy of a slice from a DataFrame.\n",
      "Try using .loc[row_indexer,col_indexer] = value instead\n",
      "\n",
      "See the caveats in the documentation: https://pandas.pydata.org/pandas-docs/stable/user_guide/indexing.html#returning-a-view-versus-a-copy\n",
      "  \"\"\"Entry point for launching an IPython kernel.\n"
     ]
    }
   ],
   "source": [
    "DFMutawintji['Transect Number'] = DFMutawintji['Transect Number'].fillna(value = TransectNumDistMutawintji1)"
   ]
  },
  {
   "cell_type": "code",
   "execution_count": 132,
   "metadata": {},
   "outputs": [],
   "source": [
    "#DFMutawintji1['Transect Number'].values"
   ]
  },
  {
   "cell_type": "code",
   "execution_count": 133,
   "metadata": {},
   "outputs": [
    {
     "data": {
      "text/plain": [
       "count    156.000000\n",
       "mean      38.942308\n",
       "std       44.024369\n",
       "min        1.000000\n",
       "25%        4.000000\n",
       "50%       10.000000\n",
       "75%       97.000000\n",
       "max       99.000000\n",
       "Name: Transect Number, dtype: float64"
      ]
     },
     "execution_count": 133,
     "metadata": {},
     "output_type": "execute_result"
    }
   ],
   "source": [
    "TransectNumDistPurnamoota = cleaning(TransectLengthsP['Transect Number'], DFPurnamoota2['Transect Number'])\n",
    "TransectNumDistPurnamoota.describe()"
   ]
  },
  {
   "cell_type": "code",
   "execution_count": 134,
   "metadata": {},
   "outputs": [],
   "source": [
    "TransectNumDistPurnamoota = pd.Series(TransectNumDistPurnamoota)"
   ]
  },
  {
   "cell_type": "code",
   "execution_count": 135,
   "metadata": {},
   "outputs": [
    {
     "name": "stderr",
     "output_type": "stream",
     "text": [
      "C:\\ProgramData\\Anaconda3\\lib\\site-packages\\ipykernel_launcher.py:1: SettingWithCopyWarning: \n",
      "A value is trying to be set on a copy of a slice from a DataFrame.\n",
      "Try using .loc[row_indexer,col_indexer] = value instead\n",
      "\n",
      "See the caveats in the documentation: https://pandas.pydata.org/pandas-docs/stable/user_guide/indexing.html#returning-a-view-versus-a-copy\n",
      "  \"\"\"Entry point for launching an IPython kernel.\n"
     ]
    }
   ],
   "source": [
    "DFPurnamoota2['Transect Number'] = DFPurnamoota2['Transect Number'].fillna(value = TransectNumDistPurnamoota)"
   ]
  },
  {
   "cell_type": "code",
   "execution_count": 136,
   "metadata": {},
   "outputs": [
    {
     "data": {
      "text/plain": [
       "count    61.000000\n",
       "mean      5.983607\n",
       "std       6.551060\n",
       "min       1.000000\n",
       "25%       2.000000\n",
       "50%       4.000000\n",
       "75%       5.000000\n",
       "max      29.000000\n",
       "Name: Transect Number, dtype: float64"
      ]
     },
     "execution_count": 136,
     "metadata": {},
     "output_type": "execute_result"
    }
   ],
   "source": [
    "TransectNumDistMutawintji = cleaning(TransectLengthsM['Transect Number'], DFMutawintji2['Transect Number'])\n",
    "TransectNumDistMutawintji.describe()"
   ]
  },
  {
   "cell_type": "code",
   "execution_count": 137,
   "metadata": {},
   "outputs": [],
   "source": [
    "TransectNumDistMutawintji = pd.Series(TransectNumDistMutawintji)"
   ]
  },
  {
   "cell_type": "code",
   "execution_count": 138,
   "metadata": {},
   "outputs": [
    {
     "name": "stderr",
     "output_type": "stream",
     "text": [
      "C:\\ProgramData\\Anaconda3\\lib\\site-packages\\ipykernel_launcher.py:1: SettingWithCopyWarning: \n",
      "A value is trying to be set on a copy of a slice from a DataFrame.\n",
      "Try using .loc[row_indexer,col_indexer] = value instead\n",
      "\n",
      "See the caveats in the documentation: https://pandas.pydata.org/pandas-docs/stable/user_guide/indexing.html#returning-a-view-versus-a-copy\n",
      "  \"\"\"Entry point for launching an IPython kernel.\n"
     ]
    }
   ],
   "source": [
    "DFMutawintji2['Transect Number'] = DFMutawintji2['Transect Number'].fillna(value = TransectNumDistMutawintji)"
   ]
  },
  {
   "cell_type": "code",
   "execution_count": 139,
   "metadata": {},
   "outputs": [
    {
     "data": {
      "text/plain": [
       "<matplotlib.axes._subplots.AxesSubplot at 0x23c95c34708>"
      ]
     },
     "execution_count": 139,
     "metadata": {},
     "output_type": "execute_result"
    },
    {
     "data": {
      "image/png": "[encoded data removed]",
      "text/plain": [
       "<Figure size 864x720 with 1 Axes>"
      ]
     },
     "metadata": {
      "needs_background": "light"
     },
     "output_type": "display_data"
    }
   ],
   "source": [
    "DFMutawintji1['Transect Number'].value_counts().plot(kind='bar')"
   ]
  },
  {
   "cell_type": "code",
   "execution_count": 140,
   "metadata": {},
   "outputs": [
    {
     "data": {
      "text/plain": [
       "<matplotlib.axes._subplots.AxesSubplot at 0x23c963745c8>"
      ]
     },
     "execution_count": 140,
     "metadata": {},
     "output_type": "execute_result"
    },
    {
     "data": {
      "image/png": "[encoded data removed]",
      "text/plain": [
       "<Figure size 864x720 with 1 Axes>"
      ]
     },
     "metadata": {
      "needs_background": "light"
     },
     "output_type": "display_data"
    }
   ],
   "source": [
    "DFMutawintji2['Transect Number'].value_counts().plot(kind='bar')"
   ]
  },
  {
   "cell_type": "code",
   "execution_count": 141,
   "metadata": {},
   "outputs": [
    {
     "data": {
      "text/plain": [
       "<matplotlib.axes._subplots.AxesSubplot at 0x23c96412a88>"
      ]
     },
     "execution_count": 141,
     "metadata": {},
     "output_type": "execute_result"
    },
    {
     "data": {
      "image/png": "[encoded data removed]",
      "text/plain": [
       "<Figure size 864x720 with 1 Axes>"
      ]
     },
     "metadata": {
      "needs_background": "light"
     },
     "output_type": "display_data"
    }
   ],
   "source": [
    "DFMutawintji['Transect Number'].value_counts().plot(kind='bar')"
   ]
  },
  {
   "cell_type": "code",
   "execution_count": 142,
   "metadata": {},
   "outputs": [
    {
     "data": {
      "text/plain": [
       "<matplotlib.axes._subplots.AxesSubplot at 0x23c967e2e88>"
      ]
     },
     "execution_count": 142,
     "metadata": {},
     "output_type": "execute_result"
    },
    {
     "data": {
      "image/png": "[encoded data removed]",
      "text/plain": [
       "<Figure size 864x720 with 1 Axes>"
      ]
     },
     "metadata": {
      "needs_background": "light"
     },
     "output_type": "display_data"
    }
   ],
   "source": [
    "DFMutawintji['Transect Number'].value_counts().plot(kind='bar')"
   ]
  },
  {
   "cell_type": "code",
   "execution_count": 143,
   "metadata": {},
   "outputs": [
    {
     "data": {
      "text/plain": [
       "<matplotlib.axes._subplots.AxesSubplot at 0x23c968313c8>"
      ]
     },
     "execution_count": 143,
     "metadata": {},
     "output_type": "execute_result"
    },
    {
     "data": {
      "image/png": "[encoded data removed]",
      "text/plain": [
       "<Figure size 864x720 with 1 Axes>"
      ]
     },
     "metadata": {
      "needs_background": "light"
     },
     "output_type": "display_data"
    }
   ],
   "source": [
    "DFPurnamoota1['Transect Number'].value_counts().plot(kind='bar')"
   ]
  },
  {
   "cell_type": "code",
   "execution_count": 144,
   "metadata": {},
   "outputs": [
    {
     "data": {
      "text/plain": [
       "<matplotlib.axes._subplots.AxesSubplot at 0x23c96a39208>"
      ]
     },
     "execution_count": 144,
     "metadata": {},
     "output_type": "execute_result"
    },
    {
     "data": {
      "image/png": "[encoded data removed]",
      "text/plain": [
       "<Figure size 864x720 with 1 Axes>"
      ]
     },
     "metadata": {
      "needs_background": "light"
     },
     "output_type": "display_data"
    }
   ],
   "source": [
    "DFPurnamoota2['Transect Number'].value_counts().plot(kind='bar')"
   ]
  },
  {
   "cell_type": "code",
   "execution_count": 145,
   "metadata": {},
   "outputs": [
    {
     "data": {
      "text/plain": [
       "<matplotlib.axes._subplots.AxesSubplot at 0x23c96cad608>"
      ]
     },
     "execution_count": 145,
     "metadata": {},
     "output_type": "execute_result"
    },
    {
     "data": {
      "image/png": "[encoded data removed]",
      "text/plain": [
       "<Figure size 864x720 with 1 Axes>"
      ]
     },
     "metadata": {
      "needs_background": "light"
     },
     "output_type": "display_data"
    }
   ],
   "source": [
    "DFPurnamoota['Transect Number'].value_counts().plot(kind='bar')"
   ]
  },
  {
   "cell_type": "code",
   "execution_count": 146,
   "metadata": {},
   "outputs": [],
   "source": [
    "PopEstMutawintji1 = DFMutawintji2.reset_index().groupby([\"Date\", \"Transect Number\"]).size().reset_index(name = \"NumofAnimals\")"
   ]
  },
  {
   "cell_type": "code",
   "execution_count": 147,
   "metadata": {},
   "outputs": [],
   "source": [
    "PopEstPurnamoota1 = DFPurnamoota2.reset_index().groupby([\"Date\", \"Transect Number\"]).size().reset_index(name = \"NumofAnimals\")"
   ]
  },
  {
   "cell_type": "code",
   "execution_count": 148,
   "metadata": {},
   "outputs": [
    {
     "data": {
      "text/html": [
       "<div>\n",
       "<style scoped>\n",
       "    .dataframe tbody tr th:only-of-type {\n",
       "        vertical-align: middle;\n",
       "    }\n",
       "\n",
       "    .dataframe tbody tr th {\n",
       "        vertical-align: top;\n",
       "    }\n",
       "\n",
       "    .dataframe thead th {\n",
       "        text-align: right;\n",
       "    }\n",
       "</style>\n",
       "<table border=\"1\" class=\"dataframe\">\n",
       "  <thead>\n",
       "    <tr style=\"text-align: right;\">\n",
       "      <th></th>\n",
       "      <th>Date</th>\n",
       "      <th>Transect Number</th>\n",
       "      <th>NumofAnimals</th>\n",
       "    </tr>\n",
       "  </thead>\n",
       "  <tbody>\n",
       "    <tr>\n",
       "      <th>0</th>\n",
       "      <td>2013-12-06</td>\n",
       "      <td>1.0</td>\n",
       "      <td>2</td>\n",
       "    </tr>\n",
       "    <tr>\n",
       "      <th>1</th>\n",
       "      <td>2013-12-06</td>\n",
       "      <td>2.0</td>\n",
       "      <td>1</td>\n",
       "    </tr>\n",
       "    <tr>\n",
       "      <th>2</th>\n",
       "      <td>2013-12-06</td>\n",
       "      <td>9.0</td>\n",
       "      <td>2</td>\n",
       "    </tr>\n",
       "    <tr>\n",
       "      <th>3</th>\n",
       "      <td>2014-03-27</td>\n",
       "      <td>2.0</td>\n",
       "      <td>5</td>\n",
       "    </tr>\n",
       "    <tr>\n",
       "      <th>4</th>\n",
       "      <td>2014-03-27</td>\n",
       "      <td>3.0</td>\n",
       "      <td>4</td>\n",
       "    </tr>\n",
       "    <tr>\n",
       "      <th>5</th>\n",
       "      <td>2014-03-28</td>\n",
       "      <td>4.0</td>\n",
       "      <td>2</td>\n",
       "    </tr>\n",
       "    <tr>\n",
       "      <th>6</th>\n",
       "      <td>2014-03-28</td>\n",
       "      <td>5.0</td>\n",
       "      <td>3</td>\n",
       "    </tr>\n",
       "    <tr>\n",
       "      <th>7</th>\n",
       "      <td>2014-11-28</td>\n",
       "      <td>8.0</td>\n",
       "      <td>1</td>\n",
       "    </tr>\n",
       "    <tr>\n",
       "      <th>8</th>\n",
       "      <td>2014-11-28</td>\n",
       "      <td>10.0</td>\n",
       "      <td>1</td>\n",
       "    </tr>\n",
       "    <tr>\n",
       "      <th>9</th>\n",
       "      <td>2014-11-28</td>\n",
       "      <td>11.0</td>\n",
       "      <td>3</td>\n",
       "    </tr>\n",
       "    <tr>\n",
       "      <th>10</th>\n",
       "      <td>2015-03-30</td>\n",
       "      <td>1.0</td>\n",
       "      <td>2</td>\n",
       "    </tr>\n",
       "    <tr>\n",
       "      <th>11</th>\n",
       "      <td>2015-03-31</td>\n",
       "      <td>3.0</td>\n",
       "      <td>3</td>\n",
       "    </tr>\n",
       "    <tr>\n",
       "      <th>12</th>\n",
       "      <td>2015-03-31</td>\n",
       "      <td>4.0</td>\n",
       "      <td>2</td>\n",
       "    </tr>\n",
       "    <tr>\n",
       "      <th>13</th>\n",
       "      <td>2015-03-31</td>\n",
       "      <td>5.0</td>\n",
       "      <td>1</td>\n",
       "    </tr>\n",
       "    <tr>\n",
       "      <th>14</th>\n",
       "      <td>2015-03-31</td>\n",
       "      <td>13.0</td>\n",
       "      <td>1</td>\n",
       "    </tr>\n",
       "    <tr>\n",
       "      <th>15</th>\n",
       "      <td>2015-03-31</td>\n",
       "      <td>29.0</td>\n",
       "      <td>5</td>\n",
       "    </tr>\n",
       "    <tr>\n",
       "      <th>16</th>\n",
       "      <td>2015-11-25</td>\n",
       "      <td>1.0</td>\n",
       "      <td>1</td>\n",
       "    </tr>\n",
       "    <tr>\n",
       "      <th>17</th>\n",
       "      <td>2015-11-26</td>\n",
       "      <td>3.0</td>\n",
       "      <td>2</td>\n",
       "    </tr>\n",
       "    <tr>\n",
       "      <th>18</th>\n",
       "      <td>2015-11-26</td>\n",
       "      <td>13.0</td>\n",
       "      <td>1</td>\n",
       "    </tr>\n",
       "    <tr>\n",
       "      <th>19</th>\n",
       "      <td>2016-04-11</td>\n",
       "      <td>2.0</td>\n",
       "      <td>1</td>\n",
       "    </tr>\n",
       "    <tr>\n",
       "      <th>20</th>\n",
       "      <td>2016-04-12</td>\n",
       "      <td>1.0</td>\n",
       "      <td>3</td>\n",
       "    </tr>\n",
       "    <tr>\n",
       "      <th>21</th>\n",
       "      <td>2016-04-12</td>\n",
       "      <td>2.0</td>\n",
       "      <td>1</td>\n",
       "    </tr>\n",
       "    <tr>\n",
       "      <th>22</th>\n",
       "      <td>2016-04-12</td>\n",
       "      <td>3.0</td>\n",
       "      <td>3</td>\n",
       "    </tr>\n",
       "    <tr>\n",
       "      <th>23</th>\n",
       "      <td>2016-04-12</td>\n",
       "      <td>4.0</td>\n",
       "      <td>2</td>\n",
       "    </tr>\n",
       "    <tr>\n",
       "      <th>24</th>\n",
       "      <td>2016-04-12</td>\n",
       "      <td>5.0</td>\n",
       "      <td>2</td>\n",
       "    </tr>\n",
       "    <tr>\n",
       "      <th>25</th>\n",
       "      <td>2016-04-12</td>\n",
       "      <td>13.0</td>\n",
       "      <td>1</td>\n",
       "    </tr>\n",
       "    <tr>\n",
       "      <th>26</th>\n",
       "      <td>2016-04-12</td>\n",
       "      <td>29.0</td>\n",
       "      <td>1</td>\n",
       "    </tr>\n",
       "    <tr>\n",
       "      <th>27</th>\n",
       "      <td>2018-11-20</td>\n",
       "      <td>1.0</td>\n",
       "      <td>1</td>\n",
       "    </tr>\n",
       "    <tr>\n",
       "      <th>28</th>\n",
       "      <td>2018-11-20</td>\n",
       "      <td>2.0</td>\n",
       "      <td>2</td>\n",
       "    </tr>\n",
       "    <tr>\n",
       "      <th>29</th>\n",
       "      <td>2018-11-20</td>\n",
       "      <td>4.0</td>\n",
       "      <td>1</td>\n",
       "    </tr>\n",
       "    <tr>\n",
       "      <th>30</th>\n",
       "      <td>2018-11-21</td>\n",
       "      <td>3.0</td>\n",
       "      <td>1</td>\n",
       "    </tr>\n",
       "  </tbody>\n",
       "</table>\n",
       "</div>"
      ],
      "text/plain": [
       "         Date  Transect Number  NumofAnimals\n",
       "0  2013-12-06              1.0             2\n",
       "1  2013-12-06              2.0             1\n",
       "2  2013-12-06              9.0             2\n",
       "3  2014-03-27              2.0             5\n",
       "4  2014-03-27              3.0             4\n",
       "5  2014-03-28              4.0             2\n",
       "6  2014-03-28              5.0             3\n",
       "7  2014-11-28              8.0             1\n",
       "8  2014-11-28             10.0             1\n",
       "9  2014-11-28             11.0             3\n",
       "10 2015-03-30              1.0             2\n",
       "11 2015-03-31              3.0             3\n",
       "12 2015-03-31              4.0             2\n",
       "13 2015-03-31              5.0             1\n",
       "14 2015-03-31             13.0             1\n",
       "15 2015-03-31             29.0             5\n",
       "16 2015-11-25              1.0             1\n",
       "17 2015-11-26              3.0             2\n",
       "18 2015-11-26             13.0             1\n",
       "19 2016-04-11              2.0             1\n",
       "20 2016-04-12              1.0             3\n",
       "21 2016-04-12              2.0             1\n",
       "22 2016-04-12              3.0             3\n",
       "23 2016-04-12              4.0             2\n",
       "24 2016-04-12              5.0             2\n",
       "25 2016-04-12             13.0             1\n",
       "26 2016-04-12             29.0             1\n",
       "27 2018-11-20              1.0             1\n",
       "28 2018-11-20              2.0             2\n",
       "29 2018-11-20              4.0             1\n",
       "30 2018-11-21              3.0             1"
      ]
     },
     "execution_count": 148,
     "metadata": {},
     "output_type": "execute_result"
    }
   ],
   "source": [
    "PopEstMutawintji1"
   ]
  },
  {
   "cell_type": "code",
   "execution_count": 149,
   "metadata": {},
   "outputs": [],
   "source": [
    "PopEstMutawintji = DFMutawintji.reset_index().groupby([\"Date\", \"Transect Number\"]).size().reset_index(name = \"NumofAnimals\")"
   ]
  },
  {
   "cell_type": "code",
   "execution_count": 150,
   "metadata": {},
   "outputs": [],
   "source": [
    "PopEstPurnamoota = DFPurnamoota.reset_index().groupby([\"Date\", \"Transect Number\"]).size().reset_index(name = \"NumofAnimals\")"
   ]
  },
  {
   "cell_type": "code",
   "execution_count": 151,
   "metadata": {},
   "outputs": [],
   "source": [
    "PopulationM1 =  PopEstMutawintji1.groupby(['Transect Number']).max().reset_index()"
   ]
  },
  {
   "cell_type": "code",
   "execution_count": 152,
   "metadata": {},
   "outputs": [
    {
     "data": {
      "text/html": [
       "<div>\n",
       "<style scoped>\n",
       "    .dataframe tbody tr th:only-of-type {\n",
       "        vertical-align: middle;\n",
       "    }\n",
       "\n",
       "    .dataframe tbody tr th {\n",
       "        vertical-align: top;\n",
       "    }\n",
       "\n",
       "    .dataframe thead th {\n",
       "        text-align: right;\n",
       "    }\n",
       "</style>\n",
       "<table border=\"1\" class=\"dataframe\">\n",
       "  <thead>\n",
       "    <tr style=\"text-align: right;\">\n",
       "      <th></th>\n",
       "      <th>Date</th>\n",
       "      <th>Transect Number</th>\n",
       "      <th>NumofAnimals</th>\n",
       "    </tr>\n",
       "  </thead>\n",
       "  <tbody>\n",
       "    <tr>\n",
       "      <th>0</th>\n",
       "      <td>2013-12-06</td>\n",
       "      <td>1.0</td>\n",
       "      <td>2</td>\n",
       "    </tr>\n",
       "    <tr>\n",
       "      <th>1</th>\n",
       "      <td>2013-12-06</td>\n",
       "      <td>2.0</td>\n",
       "      <td>1</td>\n",
       "    </tr>\n",
       "    <tr>\n",
       "      <th>2</th>\n",
       "      <td>2013-12-06</td>\n",
       "      <td>9.0</td>\n",
       "      <td>2</td>\n",
       "    </tr>\n",
       "    <tr>\n",
       "      <th>3</th>\n",
       "      <td>2014-03-27</td>\n",
       "      <td>2.0</td>\n",
       "      <td>5</td>\n",
       "    </tr>\n",
       "    <tr>\n",
       "      <th>4</th>\n",
       "      <td>2014-03-27</td>\n",
       "      <td>3.0</td>\n",
       "      <td>4</td>\n",
       "    </tr>\n",
       "    <tr>\n",
       "      <th>5</th>\n",
       "      <td>2014-03-28</td>\n",
       "      <td>4.0</td>\n",
       "      <td>2</td>\n",
       "    </tr>\n",
       "    <tr>\n",
       "      <th>6</th>\n",
       "      <td>2014-03-28</td>\n",
       "      <td>5.0</td>\n",
       "      <td>3</td>\n",
       "    </tr>\n",
       "    <tr>\n",
       "      <th>7</th>\n",
       "      <td>2014-11-28</td>\n",
       "      <td>8.0</td>\n",
       "      <td>1</td>\n",
       "    </tr>\n",
       "    <tr>\n",
       "      <th>8</th>\n",
       "      <td>2014-11-28</td>\n",
       "      <td>10.0</td>\n",
       "      <td>1</td>\n",
       "    </tr>\n",
       "    <tr>\n",
       "      <th>9</th>\n",
       "      <td>2014-11-28</td>\n",
       "      <td>11.0</td>\n",
       "      <td>3</td>\n",
       "    </tr>\n",
       "    <tr>\n",
       "      <th>10</th>\n",
       "      <td>2015-03-30</td>\n",
       "      <td>1.0</td>\n",
       "      <td>2</td>\n",
       "    </tr>\n",
       "    <tr>\n",
       "      <th>11</th>\n",
       "      <td>2015-03-31</td>\n",
       "      <td>3.0</td>\n",
       "      <td>3</td>\n",
       "    </tr>\n",
       "    <tr>\n",
       "      <th>12</th>\n",
       "      <td>2015-03-31</td>\n",
       "      <td>4.0</td>\n",
       "      <td>2</td>\n",
       "    </tr>\n",
       "    <tr>\n",
       "      <th>13</th>\n",
       "      <td>2015-03-31</td>\n",
       "      <td>5.0</td>\n",
       "      <td>1</td>\n",
       "    </tr>\n",
       "    <tr>\n",
       "      <th>14</th>\n",
       "      <td>2015-03-31</td>\n",
       "      <td>13.0</td>\n",
       "      <td>1</td>\n",
       "    </tr>\n",
       "    <tr>\n",
       "      <th>15</th>\n",
       "      <td>2015-03-31</td>\n",
       "      <td>29.0</td>\n",
       "      <td>5</td>\n",
       "    </tr>\n",
       "    <tr>\n",
       "      <th>16</th>\n",
       "      <td>2015-11-25</td>\n",
       "      <td>2.0</td>\n",
       "      <td>1</td>\n",
       "    </tr>\n",
       "    <tr>\n",
       "      <th>17</th>\n",
       "      <td>2015-11-26</td>\n",
       "      <td>2.0</td>\n",
       "      <td>1</td>\n",
       "    </tr>\n",
       "    <tr>\n",
       "      <th>18</th>\n",
       "      <td>2015-11-26</td>\n",
       "      <td>4.0</td>\n",
       "      <td>1</td>\n",
       "    </tr>\n",
       "    <tr>\n",
       "      <th>19</th>\n",
       "      <td>2015-11-26</td>\n",
       "      <td>29.0</td>\n",
       "      <td>1</td>\n",
       "    </tr>\n",
       "    <tr>\n",
       "      <th>20</th>\n",
       "      <td>2016-04-11</td>\n",
       "      <td>10.0</td>\n",
       "      <td>1</td>\n",
       "    </tr>\n",
       "    <tr>\n",
       "      <th>21</th>\n",
       "      <td>2016-04-12</td>\n",
       "      <td>1.0</td>\n",
       "      <td>3</td>\n",
       "    </tr>\n",
       "    <tr>\n",
       "      <th>22</th>\n",
       "      <td>2016-04-12</td>\n",
       "      <td>2.0</td>\n",
       "      <td>1</td>\n",
       "    </tr>\n",
       "    <tr>\n",
       "      <th>23</th>\n",
       "      <td>2016-04-12</td>\n",
       "      <td>3.0</td>\n",
       "      <td>1</td>\n",
       "    </tr>\n",
       "    <tr>\n",
       "      <th>24</th>\n",
       "      <td>2016-04-12</td>\n",
       "      <td>4.0</td>\n",
       "      <td>3</td>\n",
       "    </tr>\n",
       "    <tr>\n",
       "      <th>25</th>\n",
       "      <td>2016-04-12</td>\n",
       "      <td>5.0</td>\n",
       "      <td>2</td>\n",
       "    </tr>\n",
       "    <tr>\n",
       "      <th>26</th>\n",
       "      <td>2016-04-12</td>\n",
       "      <td>29.0</td>\n",
       "      <td>3</td>\n",
       "    </tr>\n",
       "    <tr>\n",
       "      <th>27</th>\n",
       "      <td>2018-11-20</td>\n",
       "      <td>1.0</td>\n",
       "      <td>1</td>\n",
       "    </tr>\n",
       "    <tr>\n",
       "      <th>28</th>\n",
       "      <td>2018-11-20</td>\n",
       "      <td>2.0</td>\n",
       "      <td>2</td>\n",
       "    </tr>\n",
       "    <tr>\n",
       "      <th>29</th>\n",
       "      <td>2018-11-20</td>\n",
       "      <td>4.0</td>\n",
       "      <td>1</td>\n",
       "    </tr>\n",
       "    <tr>\n",
       "      <th>30</th>\n",
       "      <td>2018-11-21</td>\n",
       "      <td>1.0</td>\n",
       "      <td>1</td>\n",
       "    </tr>\n",
       "  </tbody>\n",
       "</table>\n",
       "</div>"
      ],
      "text/plain": [
       "         Date  Transect Number  NumofAnimals\n",
       "0  2013-12-06              1.0             2\n",
       "1  2013-12-06              2.0             1\n",
       "2  2013-12-06              9.0             2\n",
       "3  2014-03-27              2.0             5\n",
       "4  2014-03-27              3.0             4\n",
       "5  2014-03-28              4.0             2\n",
       "6  2014-03-28              5.0             3\n",
       "7  2014-11-28              8.0             1\n",
       "8  2014-11-28             10.0             1\n",
       "9  2014-11-28             11.0             3\n",
       "10 2015-03-30              1.0             2\n",
       "11 2015-03-31              3.0             3\n",
       "12 2015-03-31              4.0             2\n",
       "13 2015-03-31              5.0             1\n",
       "14 2015-03-31             13.0             1\n",
       "15 2015-03-31             29.0             5\n",
       "16 2015-11-25              2.0             1\n",
       "17 2015-11-26              2.0             1\n",
       "18 2015-11-26              4.0             1\n",
       "19 2015-11-26             29.0             1\n",
       "20 2016-04-11             10.0             1\n",
       "21 2016-04-12              1.0             3\n",
       "22 2016-04-12              2.0             1\n",
       "23 2016-04-12              3.0             1\n",
       "24 2016-04-12              4.0             3\n",
       "25 2016-04-12              5.0             2\n",
       "26 2016-04-12             29.0             3\n",
       "27 2018-11-20              1.0             1\n",
       "28 2018-11-20              2.0             2\n",
       "29 2018-11-20              4.0             1\n",
       "30 2018-11-21              1.0             1"
      ]
     },
     "execution_count": 152,
     "metadata": {},
     "output_type": "execute_result"
    }
   ],
   "source": [
    "PopEstMutawintji"
   ]
  },
  {
   "cell_type": "code",
   "execution_count": 153,
   "metadata": {},
   "outputs": [],
   "source": [
    "PopulationP1 =  PopEstPurnamoota1.groupby(['Transect Number']).max().reset_index()"
   ]
  },
  {
   "cell_type": "code",
   "execution_count": 154,
   "metadata": {},
   "outputs": [],
   "source": [
    "PopulationP =  PopEstPurnamoota.groupby(['Transect Number']).max().reset_index()"
   ]
  },
  {
   "cell_type": "code",
   "execution_count": 155,
   "metadata": {},
   "outputs": [],
   "source": [
    "PopulationM =  PopEstMutawintji.groupby(['Transect Number']).max().reset_index()"
   ]
  },
  {
   "cell_type": "code",
   "execution_count": 156,
   "metadata": {},
   "outputs": [
    {
     "data": {
      "text/html": [
       "<div>\n",
       "<style scoped>\n",
       "    .dataframe tbody tr th:only-of-type {\n",
       "        vertical-align: middle;\n",
       "    }\n",
       "\n",
       "    .dataframe tbody tr th {\n",
       "        vertical-align: top;\n",
       "    }\n",
       "\n",
       "    .dataframe thead th {\n",
       "        text-align: right;\n",
       "    }\n",
       "</style>\n",
       "<table border=\"1\" class=\"dataframe\">\n",
       "  <thead>\n",
       "    <tr style=\"text-align: right;\">\n",
       "      <th></th>\n",
       "      <th>Transect Number</th>\n",
       "      <th>Date</th>\n",
       "      <th>NumofAnimals</th>\n",
       "    </tr>\n",
       "  </thead>\n",
       "  <tbody>\n",
       "    <tr>\n",
       "      <th>0</th>\n",
       "      <td>1.0</td>\n",
       "      <td>2018-11-20</td>\n",
       "      <td>3</td>\n",
       "    </tr>\n",
       "    <tr>\n",
       "      <th>1</th>\n",
       "      <td>2.0</td>\n",
       "      <td>2018-11-20</td>\n",
       "      <td>5</td>\n",
       "    </tr>\n",
       "    <tr>\n",
       "      <th>2</th>\n",
       "      <td>3.0</td>\n",
       "      <td>2018-11-21</td>\n",
       "      <td>4</td>\n",
       "    </tr>\n",
       "    <tr>\n",
       "      <th>3</th>\n",
       "      <td>4.0</td>\n",
       "      <td>2018-11-20</td>\n",
       "      <td>2</td>\n",
       "    </tr>\n",
       "    <tr>\n",
       "      <th>4</th>\n",
       "      <td>5.0</td>\n",
       "      <td>2016-04-12</td>\n",
       "      <td>3</td>\n",
       "    </tr>\n",
       "    <tr>\n",
       "      <th>5</th>\n",
       "      <td>8.0</td>\n",
       "      <td>2014-11-28</td>\n",
       "      <td>1</td>\n",
       "    </tr>\n",
       "    <tr>\n",
       "      <th>6</th>\n",
       "      <td>9.0</td>\n",
       "      <td>2013-12-06</td>\n",
       "      <td>2</td>\n",
       "    </tr>\n",
       "    <tr>\n",
       "      <th>7</th>\n",
       "      <td>10.0</td>\n",
       "      <td>2014-11-28</td>\n",
       "      <td>1</td>\n",
       "    </tr>\n",
       "    <tr>\n",
       "      <th>8</th>\n",
       "      <td>11.0</td>\n",
       "      <td>2014-11-28</td>\n",
       "      <td>3</td>\n",
       "    </tr>\n",
       "    <tr>\n",
       "      <th>9</th>\n",
       "      <td>13.0</td>\n",
       "      <td>2016-04-12</td>\n",
       "      <td>1</td>\n",
       "    </tr>\n",
       "    <tr>\n",
       "      <th>10</th>\n",
       "      <td>29.0</td>\n",
       "      <td>2016-04-12</td>\n",
       "      <td>5</td>\n",
       "    </tr>\n",
       "  </tbody>\n",
       "</table>\n",
       "</div>"
      ],
      "text/plain": [
       "    Transect Number       Date  NumofAnimals\n",
       "0               1.0 2018-11-20             3\n",
       "1               2.0 2018-11-20             5\n",
       "2               3.0 2018-11-21             4\n",
       "3               4.0 2018-11-20             2\n",
       "4               5.0 2016-04-12             3\n",
       "5               8.0 2014-11-28             1\n",
       "6               9.0 2013-12-06             2\n",
       "7              10.0 2014-11-28             1\n",
       "8              11.0 2014-11-28             3\n",
       "9              13.0 2016-04-12             1\n",
       "10             29.0 2016-04-12             5"
      ]
     },
     "execution_count": 156,
     "metadata": {},
     "output_type": "execute_result"
    }
   ],
   "source": [
    "PopulationM1"
   ]
  },
  {
   "cell_type": "code",
   "execution_count": 157,
   "metadata": {},
   "outputs": [
    {
     "data": {
      "text/html": [
       "<div>\n",
       "<style scoped>\n",
       "    .dataframe tbody tr th:only-of-type {\n",
       "        vertical-align: middle;\n",
       "    }\n",
       "\n",
       "    .dataframe tbody tr th {\n",
       "        vertical-align: top;\n",
       "    }\n",
       "\n",
       "    .dataframe thead th {\n",
       "        text-align: right;\n",
       "    }\n",
       "</style>\n",
       "<table border=\"1\" class=\"dataframe\">\n",
       "  <thead>\n",
       "    <tr style=\"text-align: right;\">\n",
       "      <th></th>\n",
       "      <th>Transect Number</th>\n",
       "      <th>Date</th>\n",
       "      <th>NumofAnimals</th>\n",
       "    </tr>\n",
       "  </thead>\n",
       "  <tbody>\n",
       "    <tr>\n",
       "      <th>0</th>\n",
       "      <td>1.0</td>\n",
       "      <td>2018-11-21</td>\n",
       "      <td>3</td>\n",
       "    </tr>\n",
       "    <tr>\n",
       "      <th>1</th>\n",
       "      <td>2.0</td>\n",
       "      <td>2018-11-20</td>\n",
       "      <td>5</td>\n",
       "    </tr>\n",
       "    <tr>\n",
       "      <th>2</th>\n",
       "      <td>3.0</td>\n",
       "      <td>2016-04-12</td>\n",
       "      <td>4</td>\n",
       "    </tr>\n",
       "    <tr>\n",
       "      <th>3</th>\n",
       "      <td>4.0</td>\n",
       "      <td>2018-11-20</td>\n",
       "      <td>3</td>\n",
       "    </tr>\n",
       "    <tr>\n",
       "      <th>4</th>\n",
       "      <td>5.0</td>\n",
       "      <td>2016-04-12</td>\n",
       "      <td>3</td>\n",
       "    </tr>\n",
       "    <tr>\n",
       "      <th>5</th>\n",
       "      <td>8.0</td>\n",
       "      <td>2014-11-28</td>\n",
       "      <td>1</td>\n",
       "    </tr>\n",
       "    <tr>\n",
       "      <th>6</th>\n",
       "      <td>9.0</td>\n",
       "      <td>2013-12-06</td>\n",
       "      <td>2</td>\n",
       "    </tr>\n",
       "    <tr>\n",
       "      <th>7</th>\n",
       "      <td>10.0</td>\n",
       "      <td>2016-04-11</td>\n",
       "      <td>1</td>\n",
       "    </tr>\n",
       "    <tr>\n",
       "      <th>8</th>\n",
       "      <td>11.0</td>\n",
       "      <td>2014-11-28</td>\n",
       "      <td>3</td>\n",
       "    </tr>\n",
       "    <tr>\n",
       "      <th>9</th>\n",
       "      <td>13.0</td>\n",
       "      <td>2015-03-31</td>\n",
       "      <td>1</td>\n",
       "    </tr>\n",
       "    <tr>\n",
       "      <th>10</th>\n",
       "      <td>29.0</td>\n",
       "      <td>2016-04-12</td>\n",
       "      <td>5</td>\n",
       "    </tr>\n",
       "  </tbody>\n",
       "</table>\n",
       "</div>"
      ],
      "text/plain": [
       "    Transect Number       Date  NumofAnimals\n",
       "0               1.0 2018-11-21             3\n",
       "1               2.0 2018-11-20             5\n",
       "2               3.0 2016-04-12             4\n",
       "3               4.0 2018-11-20             3\n",
       "4               5.0 2016-04-12             3\n",
       "5               8.0 2014-11-28             1\n",
       "6               9.0 2013-12-06             2\n",
       "7              10.0 2016-04-11             1\n",
       "8              11.0 2014-11-28             3\n",
       "9              13.0 2015-03-31             1\n",
       "10             29.0 2016-04-12             5"
      ]
     },
     "execution_count": 157,
     "metadata": {},
     "output_type": "execute_result"
    }
   ],
   "source": [
    "PopulationM"
   ]
  },
  {
   "cell_type": "code",
   "execution_count": 158,
   "metadata": {},
   "outputs": [
    {
     "data": {
      "text/html": [
       "<div>\n",
       "<style scoped>\n",
       "    .dataframe tbody tr th:only-of-type {\n",
       "        vertical-align: middle;\n",
       "    }\n",
       "\n",
       "    .dataframe tbody tr th {\n",
       "        vertical-align: top;\n",
       "    }\n",
       "\n",
       "    .dataframe thead th {\n",
       "        text-align: right;\n",
       "    }\n",
       "</style>\n",
       "<table border=\"1\" class=\"dataframe\">\n",
       "  <thead>\n",
       "    <tr style=\"text-align: right;\">\n",
       "      <th></th>\n",
       "      <th>Transect Number</th>\n",
       "      <th>Date</th>\n",
       "      <th>NumofAnimals</th>\n",
       "    </tr>\n",
       "  </thead>\n",
       "  <tbody>\n",
       "    <tr>\n",
       "      <th>0</th>\n",
       "      <td>1.0</td>\n",
       "      <td>2016-04-14</td>\n",
       "      <td>14</td>\n",
       "    </tr>\n",
       "    <tr>\n",
       "      <th>1</th>\n",
       "      <td>2.0</td>\n",
       "      <td>2016-04-14</td>\n",
       "      <td>15</td>\n",
       "    </tr>\n",
       "    <tr>\n",
       "      <th>2</th>\n",
       "      <td>3.0</td>\n",
       "      <td>2015-11-30</td>\n",
       "      <td>8</td>\n",
       "    </tr>\n",
       "    <tr>\n",
       "      <th>3</th>\n",
       "      <td>4.0</td>\n",
       "      <td>2016-04-14</td>\n",
       "      <td>6</td>\n",
       "    </tr>\n",
       "    <tr>\n",
       "      <th>4</th>\n",
       "      <td>8.0</td>\n",
       "      <td>2016-04-13</td>\n",
       "      <td>9</td>\n",
       "    </tr>\n",
       "    <tr>\n",
       "      <th>5</th>\n",
       "      <td>10.0</td>\n",
       "      <td>2016-04-14</td>\n",
       "      <td>1</td>\n",
       "    </tr>\n",
       "    <tr>\n",
       "      <th>6</th>\n",
       "      <td>11.0</td>\n",
       "      <td>2016-04-14</td>\n",
       "      <td>3</td>\n",
       "    </tr>\n",
       "    <tr>\n",
       "      <th>7</th>\n",
       "      <td>12.0</td>\n",
       "      <td>2015-11-30</td>\n",
       "      <td>1</td>\n",
       "    </tr>\n",
       "    <tr>\n",
       "      <th>8</th>\n",
       "      <td>96.0</td>\n",
       "      <td>2016-04-14</td>\n",
       "      <td>3</td>\n",
       "    </tr>\n",
       "    <tr>\n",
       "      <th>9</th>\n",
       "      <td>97.0</td>\n",
       "      <td>2016-04-14</td>\n",
       "      <td>3</td>\n",
       "    </tr>\n",
       "    <tr>\n",
       "      <th>10</th>\n",
       "      <td>98.0</td>\n",
       "      <td>2016-04-14</td>\n",
       "      <td>2</td>\n",
       "    </tr>\n",
       "    <tr>\n",
       "      <th>11</th>\n",
       "      <td>99.0</td>\n",
       "      <td>2016-04-13</td>\n",
       "      <td>1</td>\n",
       "    </tr>\n",
       "  </tbody>\n",
       "</table>\n",
       "</div>"
      ],
      "text/plain": [
       "    Transect Number       Date  NumofAnimals\n",
       "0               1.0 2016-04-14            14\n",
       "1               2.0 2016-04-14            15\n",
       "2               3.0 2015-11-30             8\n",
       "3               4.0 2016-04-14             6\n",
       "4               8.0 2016-04-13             9\n",
       "5              10.0 2016-04-14             1\n",
       "6              11.0 2016-04-14             3\n",
       "7              12.0 2015-11-30             1\n",
       "8              96.0 2016-04-14             3\n",
       "9              97.0 2016-04-14             3\n",
       "10             98.0 2016-04-14             2\n",
       "11             99.0 2016-04-13             1"
      ]
     },
     "execution_count": 158,
     "metadata": {},
     "output_type": "execute_result"
    }
   ],
   "source": [
    "PopulationP1"
   ]
  },
  {
   "cell_type": "code",
   "execution_count": 159,
   "metadata": {},
   "outputs": [
    {
     "data": {
      "text/html": [
       "<div>\n",
       "<style scoped>\n",
       "    .dataframe tbody tr th:only-of-type {\n",
       "        vertical-align: middle;\n",
       "    }\n",
       "\n",
       "    .dataframe tbody tr th {\n",
       "        vertical-align: top;\n",
       "    }\n",
       "\n",
       "    .dataframe thead th {\n",
       "        text-align: right;\n",
       "    }\n",
       "</style>\n",
       "<table border=\"1\" class=\"dataframe\">\n",
       "  <thead>\n",
       "    <tr style=\"text-align: right;\">\n",
       "      <th></th>\n",
       "      <th>Transect Number</th>\n",
       "      <th>Date</th>\n",
       "      <th>NumofAnimals</th>\n",
       "    </tr>\n",
       "  </thead>\n",
       "  <tbody>\n",
       "    <tr>\n",
       "      <th>0</th>\n",
       "      <td>1.0</td>\n",
       "      <td>2016-04-14</td>\n",
       "      <td>14</td>\n",
       "    </tr>\n",
       "    <tr>\n",
       "      <th>1</th>\n",
       "      <td>2.0</td>\n",
       "      <td>2016-04-14</td>\n",
       "      <td>15</td>\n",
       "    </tr>\n",
       "    <tr>\n",
       "      <th>2</th>\n",
       "      <td>3.0</td>\n",
       "      <td>2016-04-14</td>\n",
       "      <td>8</td>\n",
       "    </tr>\n",
       "    <tr>\n",
       "      <th>3</th>\n",
       "      <td>4.0</td>\n",
       "      <td>2016-04-14</td>\n",
       "      <td>7</td>\n",
       "    </tr>\n",
       "  </tbody>\n",
       "</table>\n",
       "</div>"
      ],
      "text/plain": [
       "   Transect Number       Date  NumofAnimals\n",
       "0              1.0 2016-04-14            14\n",
       "1              2.0 2016-04-14            15\n",
       "2              3.0 2016-04-14             8\n",
       "3              4.0 2016-04-14             7"
      ]
     },
     "execution_count": 159,
     "metadata": {},
     "output_type": "execute_result"
    }
   ],
   "source": [
    "PopulationP"
   ]
  },
  {
   "cell_type": "markdown",
   "metadata": {},
   "source": [
    "PopulationM1\n",
    "with pd.ExcelWriter(r'C:\\Users\\Madhav Gulati\\OneDrive\\Discrepancy.xlsx') as writer:  \n",
    "    PopulationM1.to_excel(writer, sheet_name='Mutawintji')\n",
    "    PopulationP1.to_excel(writer, sheet_name='Purnamoota')"
   ]
  },
  {
   "cell_type": "code",
   "execution_count": 160,
   "metadata": {},
   "outputs": [],
   "source": [
    "PopulationP1 = PopulationP1.merge(TransectLengthsP, on = 'Transect Number')"
   ]
  },
  {
   "cell_type": "code",
   "execution_count": 161,
   "metadata": {},
   "outputs": [],
   "source": [
    "PopulationM1 = PopulationM1.merge(TransectLengthsM, on = 'Transect Number')"
   ]
  },
  {
   "cell_type": "code",
   "execution_count": 162,
   "metadata": {},
   "outputs": [],
   "source": [
    "PopulationP = PopulationP.merge(TransectLengthsP, on = 'Transect Number')"
   ]
  },
  {
   "cell_type": "code",
   "execution_count": 163,
   "metadata": {},
   "outputs": [],
   "source": [
    "PopulationM = PopulationM.merge(TransectLengthsM, on = 'Transect Number')"
   ]
  },
  {
   "cell_type": "code",
   "execution_count": 164,
   "metadata": {},
   "outputs": [
    {
     "data": {
      "text/html": [
       "<div>\n",
       "<style scoped>\n",
       "    .dataframe tbody tr th:only-of-type {\n",
       "        vertical-align: middle;\n",
       "    }\n",
       "\n",
       "    .dataframe tbody tr th {\n",
       "        vertical-align: top;\n",
       "    }\n",
       "\n",
       "    .dataframe thead th {\n",
       "        text-align: right;\n",
       "    }\n",
       "</style>\n",
       "<table border=\"1\" class=\"dataframe\">\n",
       "  <thead>\n",
       "    <tr style=\"text-align: right;\">\n",
       "      <th></th>\n",
       "      <th>Transect Number</th>\n",
       "      <th>Date</th>\n",
       "      <th>NumofAnimals</th>\n",
       "      <th>Length (metres)</th>\n",
       "      <th>Site</th>\n",
       "    </tr>\n",
       "  </thead>\n",
       "  <tbody>\n",
       "    <tr>\n",
       "      <th>0</th>\n",
       "      <td>1.0</td>\n",
       "      <td>2016-04-14</td>\n",
       "      <td>14</td>\n",
       "      <td>622</td>\n",
       "      <td>Purnamoota</td>\n",
       "    </tr>\n",
       "    <tr>\n",
       "      <th>1</th>\n",
       "      <td>2.0</td>\n",
       "      <td>2016-04-14</td>\n",
       "      <td>15</td>\n",
       "      <td>657</td>\n",
       "      <td>Purnamoota</td>\n",
       "    </tr>\n",
       "    <tr>\n",
       "      <th>2</th>\n",
       "      <td>3.0</td>\n",
       "      <td>2015-11-30</td>\n",
       "      <td>8</td>\n",
       "      <td>545</td>\n",
       "      <td>Purnamoota</td>\n",
       "    </tr>\n",
       "    <tr>\n",
       "      <th>3</th>\n",
       "      <td>4.0</td>\n",
       "      <td>2016-04-14</td>\n",
       "      <td>6</td>\n",
       "      <td>608</td>\n",
       "      <td>Purnamoota</td>\n",
       "    </tr>\n",
       "    <tr>\n",
       "      <th>4</th>\n",
       "      <td>8.0</td>\n",
       "      <td>2016-04-13</td>\n",
       "      <td>9</td>\n",
       "      <td>312</td>\n",
       "      <td>Purnamoota</td>\n",
       "    </tr>\n",
       "    <tr>\n",
       "      <th>5</th>\n",
       "      <td>8.0</td>\n",
       "      <td>2016-04-13</td>\n",
       "      <td>9</td>\n",
       "      <td>372</td>\n",
       "      <td>Purnamoota</td>\n",
       "    </tr>\n",
       "    <tr>\n",
       "      <th>6</th>\n",
       "      <td>10.0</td>\n",
       "      <td>2016-04-14</td>\n",
       "      <td>1</td>\n",
       "      <td>793</td>\n",
       "      <td>Purnamoota</td>\n",
       "    </tr>\n",
       "    <tr>\n",
       "      <th>7</th>\n",
       "      <td>11.0</td>\n",
       "      <td>2016-04-14</td>\n",
       "      <td>3</td>\n",
       "      <td>704</td>\n",
       "      <td>Purnamoota</td>\n",
       "    </tr>\n",
       "    <tr>\n",
       "      <th>8</th>\n",
       "      <td>12.0</td>\n",
       "      <td>2015-11-30</td>\n",
       "      <td>1</td>\n",
       "      <td>480</td>\n",
       "      <td>Purnamoota</td>\n",
       "    </tr>\n",
       "    <tr>\n",
       "      <th>9</th>\n",
       "      <td>96.0</td>\n",
       "      <td>2016-04-14</td>\n",
       "      <td>3</td>\n",
       "      <td>418</td>\n",
       "      <td>Purnamoota</td>\n",
       "    </tr>\n",
       "    <tr>\n",
       "      <th>10</th>\n",
       "      <td>97.0</td>\n",
       "      <td>2016-04-14</td>\n",
       "      <td>3</td>\n",
       "      <td>11</td>\n",
       "      <td>Purnamoota</td>\n",
       "    </tr>\n",
       "    <tr>\n",
       "      <th>11</th>\n",
       "      <td>97.0</td>\n",
       "      <td>2016-04-14</td>\n",
       "      <td>3</td>\n",
       "      <td>3</td>\n",
       "      <td>Purnamoota</td>\n",
       "    </tr>\n",
       "    <tr>\n",
       "      <th>12</th>\n",
       "      <td>98.0</td>\n",
       "      <td>2016-04-14</td>\n",
       "      <td>2</td>\n",
       "      <td>821</td>\n",
       "      <td>Purnamoota</td>\n",
       "    </tr>\n",
       "    <tr>\n",
       "      <th>13</th>\n",
       "      <td>99.0</td>\n",
       "      <td>2016-04-13</td>\n",
       "      <td>1</td>\n",
       "      <td>1170</td>\n",
       "      <td>Purnamoota</td>\n",
       "    </tr>\n",
       "  </tbody>\n",
       "</table>\n",
       "</div>"
      ],
      "text/plain": [
       "    Transect Number       Date  NumofAnimals  Length (metres)        Site\n",
       "0               1.0 2016-04-14            14              622  Purnamoota\n",
       "1               2.0 2016-04-14            15              657  Purnamoota\n",
       "2               3.0 2015-11-30             8              545  Purnamoota\n",
       "3               4.0 2016-04-14             6              608  Purnamoota\n",
       "4               8.0 2016-04-13             9              312  Purnamoota\n",
       "5               8.0 2016-04-13             9              372  Purnamoota\n",
       "6              10.0 2016-04-14             1              793  Purnamoota\n",
       "7              11.0 2016-04-14             3              704  Purnamoota\n",
       "8              12.0 2015-11-30             1              480  Purnamoota\n",
       "9              96.0 2016-04-14             3              418  Purnamoota\n",
       "10             97.0 2016-04-14             3               11  Purnamoota\n",
       "11             97.0 2016-04-14             3                3  Purnamoota\n",
       "12             98.0 2016-04-14             2              821  Purnamoota\n",
       "13             99.0 2016-04-13             1             1170  Purnamoota"
      ]
     },
     "execution_count": 164,
     "metadata": {},
     "output_type": "execute_result"
    }
   ],
   "source": [
    "PopulationP1"
   ]
  },
  {
   "cell_type": "code",
   "execution_count": 165,
   "metadata": {},
   "outputs": [],
   "source": [
    "RegivenDF = pd.ExcelFile(r'C:\\Users\\Madhav Gulati\\OneDrive\\Regiven Dataset BRD.xlsx')\n",
    "DFMutawintji3 = pd.read_excel(RegivenDF, 'Mutawintji')\n",
    "DFPurnamoota3 = pd.read_excel(RegivenDF, 'Purnamoota')"
   ]
  },
  {
   "cell_type": "code",
   "execution_count": 166,
   "metadata": {},
   "outputs": [],
   "source": [
    "PopEstMutawintji2 = DFMutawintji3.reset_index().groupby([\"Date\", \"Transect Number\"]).size().reset_index(name = \"NumofAnimals\")"
   ]
  },
  {
   "cell_type": "code",
   "execution_count": 167,
   "metadata": {},
   "outputs": [],
   "source": [
    "PopEsPurnamoota2 = DFPurnamoota3.reset_index().groupby([\"Date\", \"Transect Number\"]).size().reset_index(name = \"NumofAnimals\")"
   ]
  },
  {
   "cell_type": "code",
   "execution_count": 168,
   "metadata": {},
   "outputs": [],
   "source": [
    "PopulationM2 =  PopEstMutawintji2.groupby(['Transect Number']).max().reset_index()"
   ]
  },
  {
   "cell_type": "code",
   "execution_count": 169,
   "metadata": {},
   "outputs": [],
   "source": [
    "PopulationP2 =  PopEsPurnamoota2.groupby(['Transect Number']).max().reset_index()"
   ]
  },
  {
   "cell_type": "code",
   "execution_count": 170,
   "metadata": {},
   "outputs": [],
   "source": [
    "PopulationP2 = PopulationP2.merge(TransectLengthsP, on = 'Transect Number')"
   ]
  },
  {
   "cell_type": "code",
   "execution_count": 171,
   "metadata": {},
   "outputs": [],
   "source": [
    "PopulationM2 = PopulationM2.merge(TransectLengthsM, on = 'Transect Number')"
   ]
  },
  {
   "cell_type": "code",
   "execution_count": 172,
   "metadata": {},
   "outputs": [],
   "source": [
    "BRDDATA = pd.read_excel(r'C:\\Users\\Madhav Gulati\\OneDrive\\BRD Project Area\\Data\\BRD Analysis.xlsx')"
   ]
  },
  {
   "cell_type": "code",
   "execution_count": 173,
   "metadata": {},
   "outputs": [],
   "source": [
    "kde1 = stats.gaussian_kde(BRDDATA['Avg Distance'])"
   ]
  },
  {
   "cell_type": "code",
   "execution_count": 174,
   "metadata": {},
   "outputs": [
    {
     "name": "stdout",
     "output_type": "stream",
     "text": [
      "Probability of spotting an animal within 50m of range of the Transect Line for (Dataset 1) is  0.0027408509510896406\n"
     ]
    }
   ],
   "source": [
    "print('Probability of spotting an animal within 50m of range of the Transect Line for (Dataset 1) is ', kde1.integrate_box_1d( 50, np.inf))"
   ]
  },
  {
   "cell_type": "code",
   "execution_count": 175,
   "metadata": {},
   "outputs": [],
   "source": [
    "#Calculating densities at 5m, 8m and 13.5 with probablities 0.4312840159806619, 0.25091642734913927, 0.08294490996520247\n"
   ]
  },
  {
   "cell_type": "code",
   "execution_count": 176,
   "metadata": {},
   "outputs": [],
   "source": [
    "def density(col, col1, x, p):\n",
    "    \n",
    "    \n",
    "    d = col1 / (col*float(x)*float(p)*2)\n",
    "        \n",
    "    return d\n",
    "    "
   ]
  },
  {
   "cell_type": "code",
   "execution_count": 177,
   "metadata": {},
   "outputs": [],
   "source": [
    "PopulationP2['Density at 5m'] = density(PopulationP2['Length (metres)'], PopulationP2['NumofAnimals'],5, 0.4312840159806619)"
   ]
  },
  {
   "cell_type": "code",
   "execution_count": 178,
   "metadata": {},
   "outputs": [],
   "source": [
    "PopulationP1['Density at 5m'] = density(PopulationP1['Length (metres)'], PopulationP1['NumofAnimals'],5, 0.4312840159806619)"
   ]
  },
  {
   "cell_type": "code",
   "execution_count": 179,
   "metadata": {},
   "outputs": [],
   "source": [
    "PopulationP['Density at 5m'] = density(PopulationP['Length (metres)'], PopulationP['NumofAnimals'],5, 0.4312840159806619)"
   ]
  },
  {
   "cell_type": "code",
   "execution_count": 180,
   "metadata": {},
   "outputs": [],
   "source": [
    "PopulationM2['Density at 5m'] = density(PopulationM2['Length (metres)'], PopulationM2['NumofAnimals'],5, 0.4312840159806619)"
   ]
  },
  {
   "cell_type": "code",
   "execution_count": 181,
   "metadata": {},
   "outputs": [],
   "source": [
    "PopulationM1['Density at 5m'] = density(PopulationM1['Length (metres)'], PopulationM1['NumofAnimals'],5, 0.4312840159806619)"
   ]
  },
  {
   "cell_type": "code",
   "execution_count": 182,
   "metadata": {},
   "outputs": [],
   "source": [
    "PopulationM['Density at 5m'] = density(PopulationM['Length (metres)'], PopulationM['NumofAnimals'],5, 0.4312840159806619)"
   ]
  },
  {
   "cell_type": "code",
   "execution_count": 183,
   "metadata": {},
   "outputs": [],
   "source": [
    "PopulationP2['Density at 8m'] = density(PopulationP2['Length (metres)'], PopulationP2['NumofAnimals'],8, 0.25091642734913927)"
   ]
  },
  {
   "cell_type": "code",
   "execution_count": 184,
   "metadata": {},
   "outputs": [],
   "source": [
    "PopulationP1['Density at 8m'] = density(PopulationP1['Length (metres)'], PopulationP1['NumofAnimals'],8, 0.25091642734913927)"
   ]
  },
  {
   "cell_type": "code",
   "execution_count": 185,
   "metadata": {},
   "outputs": [],
   "source": [
    "PopulationP['Density at 8m'] = density(PopulationP['Length (metres)'], PopulationP['NumofAnimals'],8, 0.25091642734913927)"
   ]
  },
  {
   "cell_type": "code",
   "execution_count": 186,
   "metadata": {},
   "outputs": [],
   "source": [
    "PopulationM2['Density at 8m'] = density(PopulationM2['Length (metres)'], PopulationM2['NumofAnimals'],8, 0.25091642734913927)"
   ]
  },
  {
   "cell_type": "code",
   "execution_count": 187,
   "metadata": {},
   "outputs": [],
   "source": [
    "PopulationM1['Density at 8m'] = density(PopulationM1['Length (metres)'], PopulationM1['NumofAnimals'],8, 0.25091642734913927)"
   ]
  },
  {
   "cell_type": "code",
   "execution_count": 188,
   "metadata": {},
   "outputs": [],
   "source": [
    "PopulationM['Density at 8m'] = density(PopulationM['Length (metres)'], PopulationM['NumofAnimals'],8, 0.25091642734913927)"
   ]
  },
  {
   "cell_type": "code",
   "execution_count": 189,
   "metadata": {},
   "outputs": [],
   "source": [
    "PopulationP2['Density at 13.5m'] = density(PopulationP2['Length (metres)'], PopulationP2['NumofAnimals'],13.5, 0.08294490996520247)"
   ]
  },
  {
   "cell_type": "code",
   "execution_count": 190,
   "metadata": {},
   "outputs": [],
   "source": [
    "PopulationP1['Density at 13.5m'] = density(PopulationP1['Length (metres)'], PopulationP1['NumofAnimals'],13.5, 0.08294490996520247)"
   ]
  },
  {
   "cell_type": "code",
   "execution_count": 191,
   "metadata": {},
   "outputs": [],
   "source": [
    "PopulationP['Density at 13.5m'] = density(PopulationP['Length (metres)'], PopulationP['NumofAnimals'],13.5, 0.08294490996520247)"
   ]
  },
  {
   "cell_type": "code",
   "execution_count": 192,
   "metadata": {},
   "outputs": [],
   "source": [
    "PopulationM2['Density at 13.5m'] = density(PopulationM2['Length (metres)'], PopulationM2['NumofAnimals'],13.5, 0.08294490996520247)"
   ]
  },
  {
   "cell_type": "code",
   "execution_count": 193,
   "metadata": {},
   "outputs": [],
   "source": [
    "PopulationM1['Density at 13.5m'] = density(PopulationM1['Length (metres)'], PopulationM1['NumofAnimals'],13.5, 0.08294490996520247)"
   ]
  },
  {
   "cell_type": "code",
   "execution_count": 194,
   "metadata": {},
   "outputs": [],
   "source": [
    "PopulationM['Density at 13.5m'] = density(PopulationM['Length (metres)'], PopulationM['NumofAnimals'],13.5, 0.08294490996520247)"
   ]
  },
  {
   "cell_type": "code",
   "execution_count": 195,
   "metadata": {},
   "outputs": [],
   "source": [
    "PopulationP2['Density at 50m'] = density(PopulationP2['Length (metres)'], PopulationP2['NumofAnimals'],50,0.0027408509510896406)"
   ]
  },
  {
   "cell_type": "code",
   "execution_count": 196,
   "metadata": {},
   "outputs": [],
   "source": [
    "PopulationP1['Density at 50m'] = density(PopulationP1['Length (metres)'], PopulationP1['NumofAnimals'],50,0.0027408509510896406)"
   ]
  },
  {
   "cell_type": "code",
   "execution_count": 197,
   "metadata": {},
   "outputs": [],
   "source": [
    "PopulationP['Density at 50m'] = density(PopulationP['Length (metres)'], PopulationP['NumofAnimals'],50,0.0027408509510896406)"
   ]
  },
  {
   "cell_type": "code",
   "execution_count": 198,
   "metadata": {},
   "outputs": [],
   "source": [
    "PopulationM2['Density at 50m'] = density(PopulationM2['Length (metres)'], PopulationM2['NumofAnimals'],50,0.0027408509510896406)"
   ]
  },
  {
   "cell_type": "code",
   "execution_count": 199,
   "metadata": {},
   "outputs": [],
   "source": [
    "PopulationM1['Density at 50m'] = density(PopulationM1['Length (metres)'], PopulationM1['NumofAnimals'],50,0.0027408509510896406)"
   ]
  },
  {
   "cell_type": "code",
   "execution_count": 200,
   "metadata": {},
   "outputs": [],
   "source": [
    "PopulationM['Density at 50m'] = density(PopulationM['Length (metres)'], PopulationM['NumofAnimals'],50,0.0027408509510896406)"
   ]
  },
  {
   "cell_type": "markdown",
   "metadata": {},
   "source": [
    "with pd.ExcelWriter(r'C:\\Users\\Madhav Gulati\\OneDrive\\Population Densities.xlsx') as writer:  \n",
    "    PopulationM.to_excel(writer, sheet_name='Mutawintji')\n",
    "    PopulationP.to_excel(writer, sheet_name='Purnamoota')\n",
    "    PopulationM1.to_excel(writer, sheet_name='Mutawintji1')\n",
    "    PopulationP1.to_excel(writer, sheet_name='Purnamoota1')\n",
    "    PopulationM2.to_excel(writer, sheet_name='Mutawintji2')\n",
    "    PopulationP2.to_excel(writer, sheet_name='Purnamoota2')"
   ]
  },
  {
   "cell_type": "code",
   "execution_count": null,
   "metadata": {},
   "outputs": [],
   "source": []
  },
  {
   "cell_type": "code",
   "execution_count": null,
   "metadata": {},
   "outputs": [],
   "source": []
  },
  {
   "cell_type": "code",
   "execution_count": null,
   "metadata": {},
   "outputs": [],
   "source": []
  },
  {
   "cell_type": "code",
   "execution_count": null,
   "metadata": {},
   "outputs": [],
   "source": []
  }
 ],
 "metadata": {
  "kernelspec": {
   "display_name": "Python 3",
   "language": "python",
   "name": "python3"
  },
  "language_info": {
   "codemirror_mode": {
    "name": "ipython",
    "version": 3
   },
   "file_extension": ".py",
   "mimetype": "text/x-python",
   "name": "python",
   "nbconvert_exporter": "python",
   "pygments_lexer": "ipython3",
   "version": "3.7.6"
  }
 },
 "nbformat": 4,
 "nbformat_minor": 4
}
